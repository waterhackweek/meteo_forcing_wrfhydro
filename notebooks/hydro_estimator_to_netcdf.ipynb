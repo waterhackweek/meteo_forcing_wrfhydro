{
 "cells": [
  {
   "cell_type": "markdown",
   "metadata": {},
   "source": [
    "# Hydro estimator into in NetCDF \n",
    "\n",
    "This notebook is to:\n",
    "* convert hydro estimator data (1-hr accumulated) in rainfall rate (mm/s) every 3-hr\n",
    "* convert ascii to netcdf"
   ]
  },
  {
   "cell_type": "code",
   "execution_count": 2,
   "metadata": {},
   "outputs": [],
   "source": [
    "from netCDF4 import Dataset\n",
    "import numpy as np\n",
    "import pandas as pd\n",
    "import itertools\n",
    "import sys"
   ]
  },
  {
   "cell_type": "code",
   "execution_count": 3,
   "metadata": {},
   "outputs": [],
   "source": [
    "# !gunzip ../example_data/Hydro_Estimator/*.gz"
   ]
  },
  {
   "cell_type": "markdown",
   "metadata": {},
   "source": [
    "### Extract lat, lon data for ASCII"
   ]
  },
  {
   "cell_type": "code",
   "execution_count": 4,
   "metadata": {},
   "outputs": [
    {
     "name": "stdout",
     "output_type": "stream",
     "text": [
      "CPU times: user 2min 54s, sys: 7.46 s, total: 3min 2s\n",
      "Wall time: 3min\n"
     ]
    }
   ],
   "source": [
    "%%time\n",
    "latlon = np.loadtxt('../example_data/Hydro_Estimator/zworld.latlon2', delimiter=\"\\t\", dtype=str)"
   ]
  },
  {
   "cell_type": "code",
   "execution_count": 5,
   "metadata": {},
   "outputs": [
    {
     "name": "stdout",
     "output_type": "stream",
     "text": [
      "CPU times: user 1min 9s, sys: 17.1 s, total: 1min 26s\n",
      "Wall time: 1min 25s\n"
     ]
    }
   ],
   "source": [
    "%%time\n",
    "latlon_values = np.array(' '.join(latlon).split(' '))\n",
    "latlon_values = list(filter(None, latlon_values))"
   ]
  },
  {
   "cell_type": "code",
   "execution_count": 6,
   "metadata": {},
   "outputs": [],
   "source": [
    "lat_all = latlon_values[0:-1:2]\n",
    "lon_all = latlon_values[1::2]"
   ]
  },
  {
   "cell_type": "code",
   "execution_count": 7,
   "metadata": {},
   "outputs": [],
   "source": [
    "lat_hydro = np.array(lat_all, dtype=np.float64)\n",
    "lon_hydro = np.array(lon_all, dtype=np.float64)"
   ]
  },
  {
   "cell_type": "markdown",
   "metadata": {},
   "source": [
    "### Extract values from Hydro Estimator ASCII and convert to Rainfall rate (mm/s)"
   ]
  },
  {
   "cell_type": "code",
   "execution_count": 8,
   "metadata": {},
   "outputs": [],
   "source": [
    "hour = 3  \n",
    "datetime = 201908312\n",
    "datetime_comb = []\n",
    "filenames = []"
   ]
  },
  {
   "cell_type": "code",
   "execution_count": 9,
   "metadata": {},
   "outputs": [],
   "source": [
    "if datetime%100 != 0:\n",
    "    datetime_comb[0:hour] = list(range(datetime - 1*(hour-1), datetime + 1, 1))\n",
    "else:\n",
    "    datetime_24 = datetime - 76\n",
    "    datetime_comb[0:(hour-1)] = list(range(datetime_24 - 1*(hour-1), datetime_24, 1))\n",
    "    datetime_comb.append(datetime)"
   ]
  },
  {
   "cell_type": "code",
   "execution_count": 10,
   "metadata": {},
   "outputs": [
    {
     "name": "stdout",
     "output_type": "stream",
     "text": [
      "Now you are calculating RAINRATE (mm/s) on: [201908310, 201908311, 201908312]\n"
     ]
    }
   ],
   "source": [
    "# Check the datetime \n",
    "print('Now you are calculating RAINRATE (mm/s) on: ' + str(datetime_comb))"
   ]
  },
  {
   "cell_type": "code",
   "execution_count": 11,
   "metadata": {},
   "outputs": [],
   "source": [
    "for i in range(0,hour):\n",
    "    filenames.append('../example_data/Hydro_Estimator/world1hr.' + str(datetime_comb[i]))"
   ]
  },
  {
   "cell_type": "code",
   "execution_count": 12,
   "metadata": {},
   "outputs": [],
   "source": [
    "input_file = []"
   ]
  },
  {
   "cell_type": "code",
   "execution_count": 13,
   "metadata": {},
   "outputs": [
    {
     "name": "stdout",
     "output_type": "stream",
     "text": [
      "CPU times: user 9min 58s, sys: 4.08 s, total: 10min 2s\n",
      "Wall time: 10min 2s\n"
     ]
    }
   ],
   "source": [
    "%%time\n",
    "for i in range(0,hour):\n",
    "    input_file.append([np.loadtxt(filenames[i], delimiter='\\t', skiprows=1)])\n",
    "    \n",
    "# input_file_3 = np.loadtxt(filename_3, delimiter='\\t', skiprows=1)\n",
    "# input_file_2 = np.loadtxt(filename_2, delimiter='\\t', skiprows=1)\n",
    "# input_file_1 = np.loadtxt(filename_1, delimiter='\\t', skiprows=1)"
   ]
  },
  {
   "cell_type": "code",
   "execution_count": 14,
   "metadata": {},
   "outputs": [],
   "source": [
    "for i in range(0,hour):\n",
    "    input_file[i] = [y for x in input_file[i] for y in x]"
   ]
  },
  {
   "cell_type": "markdown",
   "metadata": {},
   "source": [
    "Calculating the Rainfall with equation, R = (value-2) * 0.3048. ref: https://www.star.nesdis.noaa.gov/smcd/emb/ff/digGlobalData.php  \n",
    "Since GLDAS is every 3-hour, we want the rainfall rate at the 00, 03, 06, etc. that is counting the "
   ]
  },
  {
   "cell_type": "code",
   "execution_count": 15,
   "metadata": {},
   "outputs": [],
   "source": [
    "rain = []\n",
    "for i in range(0,hour):\n",
    "    rain.append([(np.asanyarray(input_file[i])-2)*0.3048])\n",
    "\n",
    "RAINRATE_hydro = [sum(x)/10800 for x in zip(*rain)]   #Conver into mm/s)"
   ]
  },
  {
   "cell_type": "markdown",
   "metadata": {},
   "source": [
    "### Create NetCDF file"
   ]
  },
  {
   "cell_type": "code",
   "execution_count": 16,
   "metadata": {
    "scrolled": true
   },
   "outputs": [],
   "source": [
    "# NC file setup\n",
    "Hydro_estimator = Dataset('../example_data/Hydro_Estimator_netcdf/Hydro_Estimator' + str(datetime) + '.nc','w', format='NETCDF4') "
   ]
  },
  {
   "cell_type": "code",
   "execution_count": 17,
   "metadata": {},
   "outputs": [
    {
     "data": {
      "text/plain": [
       "<class 'netCDF4._netCDF4.Dimension'>: name = 'west_east', size = 8001"
      ]
     },
     "execution_count": 17,
     "metadata": {},
     "output_type": "execute_result"
    }
   ],
   "source": [
    "# Set dimention and lat lon\n",
    "Hydro_estimator.description = 'Hydro Estimator RAINRATE'\n",
    "## create the lat and lon dimensions.\n",
    "Hydro_estimator.createDimension('Time')\n",
    "Hydro_estimator.createDimension('south_north',3111)\n",
    "Hydro_estimator.createDimension('west_east',8001)"
   ]
  },
  {
   "cell_type": "code",
   "execution_count": 18,
   "metadata": {},
   "outputs": [],
   "source": [
    "## create the RAINRATE variable\n",
    "lat = Hydro_estimator.createVariable('lat','float64',('Time','south_north','west_east'))\n",
    "lon = Hydro_estimator.createVariable('lon','float64',('Time','south_north','west_east'))\n",
    "RAINRATE = Hydro_estimator.createVariable('RAINRATE','float64',('Time','south_north','west_east'))\n",
    "## set the units attribute.\n",
    "RAINRATE.units =  'mm/s'\n",
    "## write data to variables.\n",
    "lat[1,:len(lat_hydro),:len(lon_hydro)] = lat_hydro.reshape(3111,8001)\n",
    "lon[1,:len(lat_hydro),:len(lon_hydro)] = lon_hydro.reshape(3111,8001)\n",
    "RAINRATE_hydro = np.asarray(RAINRATE_hydro)\n",
    "RAINRATE[1,:len(lat_hydro),:len(lon_hydro)] = RAINRATE_hydro.reshape(3111,8001)"
   ]
  },
  {
   "cell_type": "code",
   "execution_count": 19,
   "metadata": {
    "scrolled": true
   },
   "outputs": [],
   "source": [
    "Hydro_estimator.close()"
   ]
  }
 ],
 "metadata": {
  "kernelspec": {
   "display_name": "Python 3",
   "language": "python",
   "name": "python3"
  },
  "language_info": {
   "codemirror_mode": {
    "name": "ipython",
    "version": 3
   },
   "file_extension": ".py",
   "mimetype": "text/x-python",
   "name": "python",
   "nbconvert_exporter": "python",
   "pygments_lexer": "ipython3",
   "version": "3.6.7"
  }
 },
 "nbformat": 4,
 "nbformat_minor": 2
}

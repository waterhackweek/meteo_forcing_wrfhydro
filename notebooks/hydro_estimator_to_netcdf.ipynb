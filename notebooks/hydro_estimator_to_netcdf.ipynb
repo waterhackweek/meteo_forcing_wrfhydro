{
 "cells": [
  {
   "cell_type": "markdown",
   "metadata": {},
   "source": [
    "# Hydro estimator into in NetCDF \n",
    "\n",
    "This notebook is to:\n",
    "* convert hydro estimator data (1-hr accumulated) in rainfall rate (mm/s) every 3-hr\n",
    "* convert ascii to netcdf"
   ]
  },
  {
   "cell_type": "code",
   "execution_count": 2,
   "metadata": {},
   "outputs": [],
   "source": [
    "from netCDF4 import Dataset\n",
    "import numpy as np\n",
    "import pandas as pd\n",
    "import itertools\n",
    "import sys"
   ]
  },
  {
   "cell_type": "code",
   "execution_count": 3,
   "metadata": {},
   "outputs": [
    {
     "name": "stdout",
     "output_type": "stream",
     "text": [
      "gzip: ../example_data/Hydro_Estimator/*.gz: No such file or directory\r\n"
     ]
    }
   ],
   "source": [
    "# !gunzip ../example_data/Hydro_Estimator/*.gz"
   ]
  },
  {
   "cell_type": "code",
   "execution_count": 4,
   "metadata": {},
   "outputs": [],
   "source": [
    "hour = 3\n",
    "datetime = 201908300\n",
    "datetime_comb = []\n",
    "filenames = []"
   ]
  },
  {
   "cell_type": "code",
   "execution_count": 5,
   "metadata": {},
   "outputs": [],
   "source": [
    "if 201908300%100 != 0:\n",
    "    datetime_comb[0:hour] = list(range(datetime - 1*(hour-1), datetime + 1, 1))\n",
    "else:\n",
    "    datetime_24 = datetime - 76\n",
    "    datetime_comb[0:(hour-1)] = list(range(datetime_24 - 1*(hour-1), datetime_24, 1))\n",
    "    datetime_comb.append(datetime)\n",
    "    "
   ]
  },
  {
   "cell_type": "code",
   "execution_count": 6,
   "metadata": {},
   "outputs": [],
   "source": [
    "for i in range(0,hour):\n",
    "    filenames.append('../example_data/Hydro_Estimator/world1hr.' + str(datetime_comb[i]))"
   ]
  },
  {
   "cell_type": "markdown",
   "metadata": {},
   "source": [
    "### Extract lat, lon data for ASCII"
   ]
  },
  {
   "cell_type": "code",
   "execution_count": 7,
   "metadata": {},
   "outputs": [
    {
     "name": "stdout",
     "output_type": "stream",
     "text": [
      "CPU times: user 2min 45s, sys: 6.67 s, total: 2min 52s\n",
      "Wall time: 2min 52s\n"
     ]
    }
   ],
   "source": [
    "%%time\n",
    "latlon = np.loadtxt('../example_data/Hydro_Estimator/zworld.latlon2', delimiter=\"\\t\", dtype=str)"
   ]
  },
  {
   "cell_type": "code",
   "execution_count": 8,
   "metadata": {},
   "outputs": [
    {
     "name": "stdout",
     "output_type": "stream",
     "text": [
      "CPU times: user 1min 5s, sys: 16.8 s, total: 1min 22s\n",
      "Wall time: 1min 21s\n"
     ]
    }
   ],
   "source": [
    "%%time\n",
    "latlon_values = np.array(' '.join(latlon).split(' '))\n",
    "latlon_values = list(filter(None, latlon_values))"
   ]
  },
  {
   "cell_type": "code",
   "execution_count": 61,
   "metadata": {},
   "outputs": [],
   "source": [
    "lat_all = latlon_values[0:-1:2]\n",
    "lon_all = latlon_values[1::2]"
   ]
  },
  {
   "cell_type": "code",
   "execution_count": 33,
   "metadata": {},
   "outputs": [],
   "source": [
    "lat = list(set(lat))\n",
    "lon = list(set(lon))"
   ]
  },
  {
   "cell_type": "code",
   "execution_count": 36,
   "metadata": {},
   "outputs": [],
   "source": [
    "lat = np.array(lat, dtype=np.float64)\n",
    "lon = np.array(lon, dtype=np.float64)"
   ]
  },
  {
   "cell_type": "markdown",
   "metadata": {},
   "source": [
    "### Extract values from Hydro Estimator ASCII and convert to Rainfall rate (mm/s)"
   ]
  },
  {
   "cell_type": "code",
   "execution_count": 37,
   "metadata": {},
   "outputs": [],
   "source": [
    "input_file = []"
   ]
  },
  {
   "cell_type": "code",
   "execution_count": 38,
   "metadata": {},
   "outputs": [
    {
     "name": "stdout",
     "output_type": "stream",
     "text": [
      "CPU times: user 9min 40s, sys: 3.99 s, total: 9min 44s\n",
      "Wall time: 9min 45s\n"
     ]
    }
   ],
   "source": [
    "%%time\n",
    "for i in range(0,hour):\n",
    "    input_file.append([np.loadtxt(filenames[i], delimiter='\\t', skiprows=1)])\n",
    "    \n",
    "# input_file_3 = np.loadtxt(filename_3, delimiter='\\t', skiprows=1)\n",
    "# input_file_2 = np.loadtxt(filename_2, delimiter='\\t', skiprows=1)\n",
    "# input_file_1 = np.loadtxt(filename_1, delimiter='\\t', skiprows=1)"
   ]
  },
  {
   "cell_type": "code",
   "execution_count": 48,
   "metadata": {},
   "outputs": [],
   "source": [
    "for i in range(0,hour):\n",
    "    input_file[i] = [y for x in input_file[i] for y in x]"
   ]
  },
  {
   "cell_type": "code",
   "execution_count": 50,
   "metadata": {
    "scrolled": true
   },
   "outputs": [
    {
     "data": {
      "text/plain": [
       "True"
      ]
     },
     "execution_count": 50,
     "metadata": {},
     "output_type": "execute_result"
    }
   ],
   "source": [
    "# check if latlon has the same cells as the values\n",
    "len(lat)*len(lon) == len(input_file[1])"
   ]
  },
  {
   "cell_type": "markdown",
   "metadata": {},
   "source": [
    "Calculating the Rainfall with equation, R = (value-2) * 0.3048. ref: https://www.star.nesdis.noaa.gov/smcd/emb/ff/digGlobalData.php  \n",
    "Since GLDAS is every 3-hour, we want the rainfall rate at the 00, 03, 06, etc. that is counting the "
   ]
  },
  {
   "cell_type": "code",
   "execution_count": 51,
   "metadata": {},
   "outputs": [],
   "source": [
    "rain = []\n",
    "for i in range(0,hour):\n",
    "    rain.append([(np.asanyarray(input_file[i])-2)*0.3048])\n",
    "\n",
    "RAINRATE_hydro = [sum(x)/10800 for x in zip(*rain)]   #Conver into mm/s)"
   ]
  },
  {
   "cell_type": "markdown",
   "metadata": {},
   "source": [
    "### Create NetCDF file"
   ]
  },
  {
   "cell_type": "code",
   "execution_count": 66,
   "metadata": {
    "scrolled": true
   },
   "outputs": [],
   "source": [
    "# NC file setup\n",
    "Hydro_estimator = Dataset('../example_data/Hydro_Estimator_netcdf/Hydro_Estimator' + str(datetime) +'.nc','w', format='NETCDF4') "
   ]
  },
  {
   "cell_type": "code",
   "execution_count": 67,
   "metadata": {},
   "outputs": [],
   "source": [
    "# Set dimention and lat lon\n",
    "Hydro_estimator.description = 'Hydro Estimator RAINRATE'\n",
    "## create the lat and lon dimensions.\n",
    "Hydro_estimator.createDimension('latitude',len(lat))\n",
    "Hydro_estimator.createDimension('longitude',len(lon))\n",
    "## Define the coordinate variables. They will hold the coordinate information\n",
    "lats = Hydro_estimator.createVariable('latitude','float64',('latitude',))\n",
    "lons = Hydro_estimator.createVariable('longitude','float64',('longitude',))\n",
    "## Assign units attributes to coordinate var data. This attaches a text attribute to each of the coordinate variables, containing the units.\n",
    "lats.units = 'degrees_north'\n",
    "lons.units = 'degrees_east'\n",
    "## write data to coordinate vars.\n",
    "lats[:] = lat\n",
    "lons[:] = lon"
   ]
  },
  {
   "cell_type": "code",
   "execution_count": 68,
   "metadata": {},
   "outputs": [],
   "source": [
    "## create the RAINRATE variable\n",
    "RAINRATE = Hydro_estimator.createVariable('RAINRATE','float64',('latitude','longitude'))\n",
    "## set the units attribute.\n",
    "RAINRATE.units =  'mm/s'\n",
    "## write data to variables.\n",
    "RAINRATE_hydro = np.asarray(RAINRATE_hydro)\n",
    "RAINRATE[:len(lat),:len(lon)] = RAINRATE_hydro.reshape(len(lat),len(lon))"
   ]
  },
  {
   "cell_type": "code",
   "execution_count": 69,
   "metadata": {
    "scrolled": true
   },
   "outputs": [],
   "source": [
    "Hydro_estimator.close()"
   ]
  }
 ],
 "metadata": {
  "kernelspec": {
   "display_name": "Python 3",
   "language": "python",
   "name": "python3"
  },
  "language_info": {
   "codemirror_mode": {
    "name": "ipython",
    "version": 3
   },
   "file_extension": ".py",
   "mimetype": "text/x-python",
   "name": "python",
   "nbconvert_exporter": "python",
   "pygments_lexer": "ipython3",
   "version": "3.6.8"
  }
 },
 "nbformat": 4,
 "nbformat_minor": 2
}

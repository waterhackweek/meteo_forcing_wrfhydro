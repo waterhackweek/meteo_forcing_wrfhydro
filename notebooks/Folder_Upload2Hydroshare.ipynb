{
 "cells": [
  {
   "cell_type": "code",
   "execution_count": null,
   "metadata": {},
   "outputs": [],
   "source": [
    "# upgrade if needed\n",
    "! pip install --upgrade hs_restclient"
   ]
  },
  {
   "cell_type": "code",
   "execution_count": null,
   "metadata": {},
   "outputs": [],
   "source": [
    "# this will prompt you for credentials\n",
    "from hs_restclient import HydroShare\n",
    "hs = HydroShare()"
   ]
  },
  {
   "cell_type": "code",
   "execution_count": null,
   "metadata": {},
   "outputs": [],
   "source": [
    "# This will upload each file in the folder and place it in the same directory structure within the resource\n",
    "\n",
    "# set these variables first\n",
    "# you can find res_id in the resource url\n",
    "res_id = '7015162a158648ba95ff547a6eb753ba'\n",
    "# folder_path is the full path to a folder you want to upload starting at the root of the resource\n",
    "folder_path = 'test_folder/deep'\n",
    "\n",
    "# list the files in the folder\n",
    "from os import listdir\n",
    "from os.path import isfile, join\n",
    "onlyfiles = [f for f in listdir(folder_path) if isfile(join(folder_path, f))]\n",
    "hs.createResourceFolder(res_id, pathname=folder_path)\n",
    "\n",
    "# upload each file one at a time\n",
    "for file in onlyfiles:\n",
    "    print(\"uploading file \" + file)\n",
    "    hs.addResourceFile(res_id, os.path.join(folder_path, file))\n",
    "    options = {\n",
    "                 \"source_path\": file,\n",
    "                 \"target_path\": os.path.join(folder_path, file)\n",
    "    }\n",
    "    hs.resource(res_id).functions.move_or_rename(options)"
   ]
  },
  {
   "cell_type": "code",
   "execution_count": null,
   "metadata": {},
   "outputs": [],
   "source": [
    "# This will upload a single file if you'd like\n",
    "file_path = 'fol/file.txt'\n",
    "hs.addResourceFile(res_id, file_path)\n",
    "hs.resource(res_id).functions.move_or_rename(options)"
   ]
  }
 ],
 "metadata": {
  "kernelspec": {
   "display_name": "Python 3",
   "language": "python",
   "name": "python3"
  },
  "language_info": {
   "codemirror_mode": {
    "name": "ipython",
    "version": 3
   },
   "file_extension": ".py",
   "mimetype": "text/x-python",
   "name": "python",
   "nbconvert_exporter": "python",
   "pygments_lexer": "ipython3",
   "version": "3.6.8"
  }
 },
 "nbformat": 4,
 "nbformat_minor": 2
}

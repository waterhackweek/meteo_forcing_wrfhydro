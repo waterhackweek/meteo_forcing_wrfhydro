{
 "cells": [
  {
   "cell_type": "markdown",
   "metadata": {},
   "source": [
    "This notebooks is for aligning netcdf grids"
   ]
  },
  {
   "cell_type": "code",
   "execution_count": 149,
   "metadata": {},
   "outputs": [],
   "source": [
    "import numpy\n",
    "import xarray as xr\n",
    "from scipy.misc import imresize"
   ]
  },
  {
   "cell_type": "code",
   "execution_count": 59,
   "metadata": {},
   "outputs": [],
   "source": [
    "ds_fine = xr.open_dataset('../example_data/GLDAS/FORCING/2019022600.LDASIN_DOMAIN1')\n",
    "ds_coarse = xr.open_dataset('../example_data/GLDAS/input_files/GLDAS_NOAH025_3H.A20190226.0000.021.nc4')"
   ]
  },
  {
   "cell_type": "markdown",
   "metadata": {},
   "source": [
    "Look at the shapes of these datasets"
   ]
  },
  {
   "cell_type": "code",
   "execution_count": 60,
   "metadata": {},
   "outputs": [
    {
     "name": "stdout",
     "output_type": "stream",
     "text": [
      "Fine resolution shape: (56, 72)\n",
      "Coarse resolution shape: (1, 600, 1440)\n"
     ]
    }
   ],
   "source": [
    "shape_fine = ds_fine.lat.values.shape\n",
    "shape_coarse = ds_coarse.SWdown_f_tavg.shape\n",
    "\n",
    "print('Fine resolution shape: %s' % str(shape_fine))\n",
    "print('Coarse resolution shape: %s' % str(shape_coarse))"
   ]
  },
  {
   "cell_type": "markdown",
   "metadata": {},
   "source": [
    "Take a look at the data and make sure there are non-nan values"
   ]
  },
  {
   "cell_type": "code",
   "execution_count": 61,
   "metadata": {},
   "outputs": [
    {
     "data": {
      "text/plain": [
       "<xarray.DataArray 'Rainf_f_tavg' (time: 1, lat: 600, lon: 1440)>\n",
       "[864000 values with dtype=float32]\n",
       "Coordinates:\n",
       "  * lat      (lat) float32 -59.875 -59.625 -59.375 ... 89.375 89.625 89.875\n",
       "  * lon      (lon) float32 -179.875 -179.625 -179.375 ... 179.625 179.875\n",
       "  * time     (time) datetime64[ns] 2019-02-26\n",
       "Attributes:\n",
       "    units:          kg m-2 s-1\n",
       "    standard_name:  precipitation_flux\n",
       "    long_name:      Total precipitation rate\n",
       "    cell_methods:   time: mean\n",
       "    vmin:           0.0\n",
       "    vmax:           0.009105"
      ]
     },
     "execution_count": 61,
     "metadata": {},
     "output_type": "execute_result"
    }
   ],
   "source": [
    "ds_coarse.Rainf_f_tavg"
   ]
  },
  {
   "cell_type": "code",
   "execution_count": 62,
   "metadata": {},
   "outputs": [],
   "source": [
    "arr = ds_coarse.Rainf_f_tavg.values[0]"
   ]
  },
  {
   "cell_type": "code",
   "execution_count": 63,
   "metadata": {},
   "outputs": [
    {
     "data": {
      "text/plain": [
       "0.0"
      ]
     },
     "execution_count": 63,
     "metadata": {},
     "output_type": "execute_result"
    }
   ],
   "source": [
    "numpy.nanmin(ds_coarse.Rainf_f_tavg.values)"
   ]
  },
  {
   "cell_type": "code",
   "execution_count": 64,
   "metadata": {},
   "outputs": [
    {
     "data": {
      "text/plain": [
       "0.0091049997"
      ]
     },
     "execution_count": 64,
     "metadata": {},
     "output_type": "execute_result"
    }
   ],
   "source": [
    "numpy.nanmax(ds_coarse.Rainf_f_tavg.values)"
   ]
  },
  {
   "cell_type": "markdown",
   "metadata": {},
   "source": [
    "Get the corner lat/lon for the target array"
   ]
  },
  {
   "cell_type": "code",
   "execution_count": 65,
   "metadata": {},
   "outputs": [],
   "source": [
    "xmin = ds_fine.lon.values.min()\n",
    "xmax = ds_fine.lon.values.max()\n",
    "ymin = ds_fine.lat.values.min()\n",
    "ymax = ds_fine.lat.values.max()"
   ]
  },
  {
   "cell_type": "markdown",
   "metadata": {},
   "source": [
    "Select all values in the source array within this range"
   ]
  },
  {
   "cell_type": "code",
   "execution_count": 66,
   "metadata": {},
   "outputs": [],
   "source": [
    "lons = ds_coarse.lon.values\n",
    "lats = ds_coarse.lat.values"
   ]
  },
  {
   "cell_type": "code",
   "execution_count": 67,
   "metadata": {},
   "outputs": [],
   "source": [
    "# get the coordinates in the source array that match the range of the target\n",
    "inner_lons = numpy.where((lons < xmax) & (lons > xmin))\n",
    "inner_lats = numpy.where((lats < ymax) & (lats > ymin))"
   ]
  },
  {
   "cell_type": "code",
   "execution_count": 68,
   "metadata": {},
   "outputs": [
    {
     "data": {
      "text/plain": [
       "(array([87, 88, 89]),)"
      ]
     },
     "execution_count": 68,
     "metadata": {},
     "output_type": "execute_result"
    }
   ],
   "source": [
    "inner_lons"
   ]
  },
  {
   "cell_type": "code",
   "execution_count": 69,
   "metadata": {},
   "outputs": [
    {
     "data": {
      "text/plain": [
       "(array([325, 326]),)"
      ]
     },
     "execution_count": 69,
     "metadata": {},
     "output_type": "execute_result"
    }
   ],
   "source": [
    "inner_lats"
   ]
  },
  {
   "cell_type": "code",
   "execution_count": 70,
   "metadata": {},
   "outputs": [],
   "source": [
    "# define index bounds for selecting data using numpy indexing\n",
    "llon = inner_lons[0].min()\n",
    "ulon = inner_lons[0].max() + 1\n",
    "llat = inner_lats[0].min()\n",
    "ulat = inner_lats[0].max() + 1"
   ]
  },
  {
   "cell_type": "code",
   "execution_count": 71,
   "metadata": {},
   "outputs": [
    {
     "name": "stdout",
     "output_type": "stream",
     "text": [
      "[[ nan  nan]\n",
      " [ nan  nan]\n",
      " [ nan  nan]]\n"
     ]
    }
   ],
   "source": [
    "# select the data from the target for this range\n",
    "arr = ds_coarse['Rainf_f_tavg'][0].values\n",
    "subset = arr[llon:ulon, llat:ulat]\n",
    "print(subset)"
   ]
  },
  {
   "cell_type": "code",
   "execution_count": 141,
   "metadata": {},
   "outputs": [],
   "source": [
    "# replace nan with 0\n",
    "subset = numpy.nan_to_num(subset)\n",
    "\n",
    "# get the max value used for converting the interpolated data back into\n",
    "# the original range\n",
    "subset_max = subset.max()"
   ]
  },
  {
   "cell_type": "code",
   "execution_count": 142,
   "metadata": {},
   "outputs": [
    {
     "data": {
      "text/plain": [
       "array([[    0.,  1000.],\n",
       "       [    0.,     0.],\n",
       "       [  200.,     0.]], dtype=float32)"
      ]
     },
     "execution_count": 142,
     "metadata": {},
     "output_type": "execute_result"
    }
   ],
   "source": [
    "subset"
   ]
  },
  {
   "cell_type": "code",
   "execution_count": 143,
   "metadata": {},
   "outputs": [],
   "source": [
    "# insert some random values (testing only)\n",
    "subset[0][1] = 1000\n",
    "subset[2][0] = 200"
   ]
  },
  {
   "cell_type": "code",
   "execution_count": 144,
   "metadata": {},
   "outputs": [
    {
     "data": {
      "text/plain": [
       "array([[    0.,  1000.],\n",
       "       [    0.,     0.],\n",
       "       [  200.,     0.]], dtype=float32)"
      ]
     },
     "execution_count": 144,
     "metadata": {},
     "output_type": "execute_result"
    }
   ],
   "source": [
    "subset"
   ]
  },
  {
   "cell_type": "code",
   "execution_count": 150,
   "metadata": {},
   "outputs": [
    {
     "name": "stderr",
     "output_type": "stream",
     "text": [
      "/opt/conda/lib/python3.6/site-packages/ipykernel_launcher.py:5: DeprecationWarning: `imresize` is deprecated!\n",
      "`imresize` is deprecated in SciPy 1.0.0, and will be removed in 1.2.0.\n",
      "Use ``skimage.transform.resize`` instead.\n",
      "  \"\"\"\n"
     ]
    }
   ],
   "source": [
    "# resize the array to the shape of the target\n",
    "d = imresize(subset,\n",
    "         (10,10),\n",
    "         interp='bilinear',\n",
    "         mode=None)\n"
   ]
  },
  {
   "cell_type": "code",
   "execution_count": 151,
   "metadata": {},
   "outputs": [
    {
     "data": {
      "text/plain": [
       "array([[    0.        ,     0.        ,     0.        ,   200.        ,\n",
       "          400.        ,   600.        ,   800.        ,  1000.        ,\n",
       "         1000.        ,  1000.        ],\n",
       "       [    0.        ,     0.        ,     0.        ,   200.        ,\n",
       "          400.        ,   600.        ,   800.        ,  1000.        ,\n",
       "         1000.        ,  1000.        ],\n",
       "       [    0.        ,     0.        ,     0.        ,   149.01960784,\n",
       "          301.96078431,   450.98039216,   600.        ,   749.01960784,\n",
       "          749.01960784,   749.01960784],\n",
       "       [    0.        ,     0.        ,     0.        ,    90.19607843,\n",
       "          180.39215686,   270.58823529,   360.78431373,   450.98039216,\n",
       "          450.98039216,   450.98039216],\n",
       "       [    0.        ,     0.        ,     0.        ,    31.37254902,\n",
       "           58.82352941,    90.19607843,   121.56862745,   149.01960784,\n",
       "          149.01960784,   149.01960784],\n",
       "       [   31.37254902,    31.37254902,    31.37254902,    23.52941176,\n",
       "           19.60784314,    11.76470588,     7.84313725,     0.        ,\n",
       "            0.        ,     0.        ],\n",
       "       [   90.19607843,    90.19607843,    90.19607843,    70.58823529,\n",
       "           54.90196078,    35.29411765,    19.60784314,     0.        ,\n",
       "            0.        ,     0.        ],\n",
       "       [  149.01960784,   149.01960784,   149.01960784,   121.56862745,\n",
       "           90.19607843,    58.82352941,    31.37254902,     0.        ,\n",
       "            0.        ,     0.        ],\n",
       "       [  200.        ,   200.        ,   200.        ,   160.78431373,\n",
       "          121.56862745,    78.43137255,    39.21568627,     0.        ,\n",
       "            0.        ,     0.        ],\n",
       "       [  200.        ,   200.        ,   200.        ,   160.78431373,\n",
       "          121.56862745,    78.43137255,    39.21568627,     0.        ,\n",
       "            0.        ,     0.        ]])"
      ]
     },
     "execution_count": 151,
     "metadata": {},
     "output_type": "execute_result"
    }
   ],
   "source": [
    "# convert from uint8 back into our original range of data\n",
    "d = d/255 * subset_max\n",
    "d"
   ]
  },
  {
   "cell_type": "markdown",
   "metadata": {},
   "source": [
    "Create a function to do these steps"
   ]
  },
  {
   "cell_type": "code",
   "execution_count": 169,
   "metadata": {},
   "outputs": [],
   "source": [
    "def regrid_variables(source, target, variables):\n",
    "    ds_fine = xr.open_dataset(source)\n",
    "    ds_coarse = xr.open_dataset(target)\n",
    "    \n",
    "    xmin = ds_fine.lon.values.min()\n",
    "    xmax = ds_fine.lon.values.max()\n",
    "    ymin = ds_fine.lat.values.min()\n",
    "    ymax = ds_fine.lat.values.max()\n",
    "    \n",
    "    lons = ds_coarse.lon.values\n",
    "    lats = ds_coarse.lat.values\n",
    "\n",
    "    # get the coordinates in the source array that match the\n",
    "    # range of the target\n",
    "    inner_lons = numpy.where((lons < xmax) & (lons > xmin))\n",
    "    inner_lats = numpy.where((lats < ymax) & (lats > ymin))\n",
    "    \n",
    "    # define index bounds for selecting data using numpy indexing\n",
    "    llon = inner_lons[0].min()\n",
    "    ulon = inner_lons[0].max() + 1\n",
    "    llat = inner_lats[0].min()\n",
    "    ulat = inner_lats[0].max() + 1\n",
    "    \n",
    "    regridded_data = {}\n",
    "    for v in variables:\n",
    "    \n",
    "        # select the data from the target for this range\n",
    "        arr = ds_coarse[v][0].values\n",
    "        subset = arr[llon:ulon, llat:ulat]\n",
    "\n",
    "        # replace nan with 0\n",
    "        subset = numpy.nan_to_num(subset)\n",
    "\n",
    "        # get the max value used for converting the interpolated data back into\n",
    "        # the original range\n",
    "        subset_max = subset.max()\n",
    "\n",
    "\n",
    "        # resize the array to the shape of the target\n",
    "        d = imresize(subset,\n",
    "                 (10,10),\n",
    "                 interp='bilinear',\n",
    "                 mode=None)\n",
    "\n",
    "\n",
    "        # convert from uint8 back into our original range of data\n",
    "        d = d/255 * subset_max\n",
    "        regridded_data[v] = d\n",
    "    return regridded_data"
   ]
  },
  {
   "cell_type": "code",
   "execution_count": 170,
   "metadata": {},
   "outputs": [
    {
     "name": "stderr",
     "output_type": "stream",
     "text": [
      "/opt/conda/lib/python3.6/site-packages/ipykernel_launcher.py:43: DeprecationWarning: `imresize` is deprecated!\n",
      "`imresize` is deprecated in SciPy 1.0.0, and will be removed in 1.2.0.\n",
      "Use ``skimage.transform.resize`` instead.\n"
     ]
    },
    {
     "data": {
      "text/plain": [
       "{'T2D': array([[ 0.,  0.,  0.,  0.,  0.,  0.,  0.,  0.,  0.,  0.],\n",
       "        [ 0.,  0.,  0.,  0.,  0.,  0.,  0.,  0.,  0.,  0.],\n",
       "        [ 0.,  0.,  0.,  0.,  0.,  0.,  0.,  0.,  0.,  0.],\n",
       "        [ 0.,  0.,  0.,  0.,  0.,  0.,  0.,  0.,  0.,  0.],\n",
       "        [ 0.,  0.,  0.,  0.,  0.,  0.,  0.,  0.,  0.,  0.],\n",
       "        [ 0.,  0.,  0.,  0.,  0.,  0.,  0.,  0.,  0.,  0.],\n",
       "        [ 0.,  0.,  0.,  0.,  0.,  0.,  0.,  0.,  0.,  0.],\n",
       "        [ 0.,  0.,  0.,  0.,  0.,  0.,  0.,  0.,  0.,  0.],\n",
       "        [ 0.,  0.,  0.,  0.,  0.,  0.,  0.,  0.,  0.,  0.],\n",
       "        [ 0.,  0.,  0.,  0.,  0.,  0.,  0.,  0.,  0.,  0.]]),\n",
       " 'Q2D': array([[ 0.,  0.,  0.,  0.,  0.,  0.,  0.,  0.,  0.,  0.],\n",
       "        [ 0.,  0.,  0.,  0.,  0.,  0.,  0.,  0.,  0.,  0.],\n",
       "        [ 0.,  0.,  0.,  0.,  0.,  0.,  0.,  0.,  0.,  0.],\n",
       "        [ 0.,  0.,  0.,  0.,  0.,  0.,  0.,  0.,  0.,  0.],\n",
       "        [ 0.,  0.,  0.,  0.,  0.,  0.,  0.,  0.,  0.,  0.],\n",
       "        [ 0.,  0.,  0.,  0.,  0.,  0.,  0.,  0.,  0.,  0.],\n",
       "        [ 0.,  0.,  0.,  0.,  0.,  0.,  0.,  0.,  0.,  0.],\n",
       "        [ 0.,  0.,  0.,  0.,  0.,  0.,  0.,  0.,  0.,  0.],\n",
       "        [ 0.,  0.,  0.,  0.,  0.,  0.,  0.,  0.,  0.,  0.],\n",
       "        [ 0.,  0.,  0.,  0.,  0.,  0.,  0.,  0.,  0.,  0.]]),\n",
       " 'U2D': array([[ 0.,  0.,  0.,  0.,  0.,  0.,  0.,  0.,  0.,  0.],\n",
       "        [ 0.,  0.,  0.,  0.,  0.,  0.,  0.,  0.,  0.,  0.],\n",
       "        [ 0.,  0.,  0.,  0.,  0.,  0.,  0.,  0.,  0.,  0.],\n",
       "        [ 0.,  0.,  0.,  0.,  0.,  0.,  0.,  0.,  0.,  0.],\n",
       "        [ 0.,  0.,  0.,  0.,  0.,  0.,  0.,  0.,  0.,  0.],\n",
       "        [ 0.,  0.,  0.,  0.,  0.,  0.,  0.,  0.,  0.,  0.],\n",
       "        [ 0.,  0.,  0.,  0.,  0.,  0.,  0.,  0.,  0.,  0.],\n",
       "        [ 0.,  0.,  0.,  0.,  0.,  0.,  0.,  0.,  0.,  0.],\n",
       "        [ 0.,  0.,  0.,  0.,  0.,  0.,  0.,  0.,  0.,  0.],\n",
       "        [ 0.,  0.,  0.,  0.,  0.,  0.,  0.,  0.,  0.,  0.]]),\n",
       " 'V2D': array([[ 0.,  0.,  0.,  0.,  0.,  0.,  0.,  0.,  0.,  0.],\n",
       "        [ 0.,  0.,  0.,  0.,  0.,  0.,  0.,  0.,  0.,  0.],\n",
       "        [ 0.,  0.,  0.,  0.,  0.,  0.,  0.,  0.,  0.,  0.],\n",
       "        [ 0.,  0.,  0.,  0.,  0.,  0.,  0.,  0.,  0.,  0.],\n",
       "        [ 0.,  0.,  0.,  0.,  0.,  0.,  0.,  0.,  0.,  0.],\n",
       "        [ 0.,  0.,  0.,  0.,  0.,  0.,  0.,  0.,  0.,  0.],\n",
       "        [ 0.,  0.,  0.,  0.,  0.,  0.,  0.,  0.,  0.,  0.],\n",
       "        [ 0.,  0.,  0.,  0.,  0.,  0.,  0.,  0.,  0.,  0.],\n",
       "        [ 0.,  0.,  0.,  0.,  0.,  0.,  0.,  0.,  0.,  0.],\n",
       "        [ 0.,  0.,  0.,  0.,  0.,  0.,  0.,  0.,  0.,  0.]]),\n",
       " 'RAINRATE': array([[ 0.,  0.,  0.,  0.,  0.,  0.,  0.,  0.,  0.,  0.],\n",
       "        [ 0.,  0.,  0.,  0.,  0.,  0.,  0.,  0.,  0.,  0.],\n",
       "        [ 0.,  0.,  0.,  0.,  0.,  0.,  0.,  0.,  0.,  0.],\n",
       "        [ 0.,  0.,  0.,  0.,  0.,  0.,  0.,  0.,  0.,  0.],\n",
       "        [ 0.,  0.,  0.,  0.,  0.,  0.,  0.,  0.,  0.,  0.],\n",
       "        [ 0.,  0.,  0.,  0.,  0.,  0.,  0.,  0.,  0.,  0.],\n",
       "        [ 0.,  0.,  0.,  0.,  0.,  0.,  0.,  0.,  0.,  0.],\n",
       "        [ 0.,  0.,  0.,  0.,  0.,  0.,  0.,  0.,  0.,  0.],\n",
       "        [ 0.,  0.,  0.,  0.,  0.,  0.,  0.,  0.,  0.,  0.],\n",
       "        [ 0.,  0.,  0.,  0.,  0.,  0.,  0.,  0.,  0.,  0.]]),\n",
       " 'SWDOWN': array([[ 0.,  0.,  0.,  0.,  0.,  0.,  0.,  0.,  0.,  0.],\n",
       "        [ 0.,  0.,  0.,  0.,  0.,  0.,  0.,  0.,  0.,  0.],\n",
       "        [ 0.,  0.,  0.,  0.,  0.,  0.,  0.,  0.,  0.,  0.],\n",
       "        [ 0.,  0.,  0.,  0.,  0.,  0.,  0.,  0.,  0.,  0.],\n",
       "        [ 0.,  0.,  0.,  0.,  0.,  0.,  0.,  0.,  0.,  0.],\n",
       "        [ 0.,  0.,  0.,  0.,  0.,  0.,  0.,  0.,  0.,  0.],\n",
       "        [ 0.,  0.,  0.,  0.,  0.,  0.,  0.,  0.,  0.,  0.],\n",
       "        [ 0.,  0.,  0.,  0.,  0.,  0.,  0.,  0.,  0.,  0.],\n",
       "        [ 0.,  0.,  0.,  0.,  0.,  0.,  0.,  0.,  0.,  0.],\n",
       "        [ 0.,  0.,  0.,  0.,  0.,  0.,  0.,  0.,  0.,  0.]]),\n",
       " 'LWDOWN': array([[ 0.,  0.,  0.,  0.,  0.,  0.,  0.,  0.,  0.,  0.],\n",
       "        [ 0.,  0.,  0.,  0.,  0.,  0.,  0.,  0.,  0.,  0.],\n",
       "        [ 0.,  0.,  0.,  0.,  0.,  0.,  0.,  0.,  0.,  0.],\n",
       "        [ 0.,  0.,  0.,  0.,  0.,  0.,  0.,  0.,  0.,  0.],\n",
       "        [ 0.,  0.,  0.,  0.,  0.,  0.,  0.,  0.,  0.,  0.],\n",
       "        [ 0.,  0.,  0.,  0.,  0.,  0.,  0.,  0.,  0.,  0.],\n",
       "        [ 0.,  0.,  0.,  0.,  0.,  0.,  0.,  0.,  0.,  0.],\n",
       "        [ 0.,  0.,  0.,  0.,  0.,  0.,  0.,  0.,  0.,  0.],\n",
       "        [ 0.,  0.,  0.,  0.,  0.,  0.,  0.,  0.,  0.,  0.],\n",
       "        [ 0.,  0.,  0.,  0.,  0.,  0.,  0.,  0.,  0.,  0.]]),\n",
       " 'PSFC': array([[ 0.,  0.,  0.,  0.,  0.,  0.,  0.,  0.,  0.,  0.],\n",
       "        [ 0.,  0.,  0.,  0.,  0.,  0.,  0.,  0.,  0.,  0.],\n",
       "        [ 0.,  0.,  0.,  0.,  0.,  0.,  0.,  0.,  0.,  0.],\n",
       "        [ 0.,  0.,  0.,  0.,  0.,  0.,  0.,  0.,  0.,  0.],\n",
       "        [ 0.,  0.,  0.,  0.,  0.,  0.,  0.,  0.,  0.,  0.],\n",
       "        [ 0.,  0.,  0.,  0.,  0.,  0.,  0.,  0.,  0.,  0.],\n",
       "        [ 0.,  0.,  0.,  0.,  0.,  0.,  0.,  0.,  0.,  0.],\n",
       "        [ 0.,  0.,  0.,  0.,  0.,  0.,  0.,  0.,  0.,  0.],\n",
       "        [ 0.,  0.,  0.,  0.,  0.,  0.,  0.,  0.,  0.,  0.],\n",
       "        [ 0.,  0.,  0.,  0.,  0.,  0.,  0.,  0.,  0.,  0.]])}"
      ]
     },
     "execution_count": 170,
     "metadata": {},
     "output_type": "execute_result"
    }
   ],
   "source": [
    "target = '../example_data/GLDAS/FORCING/2019022600.LDASIN_DOMAIN1'\n",
    "source = '../example_data/GLDAS/input_files/GLDAS_NOAH025_3H.A20190226.0000.021.nc4'\n",
    "variables = ['T2D',\n",
    "             'Q2D',\n",
    "             'U2D',\n",
    "             'V2D',\n",
    "             'RAINRATE',\n",
    "             'SWDOWN',\n",
    "             'LWDOWN',\n",
    "             'PSFC']\n",
    "regrid_variables(source, target, variables)"
   ]
  }
 ],
 "metadata": {
  "kernelspec": {
   "display_name": "Python 3",
   "language": "python",
   "name": "python3"
  },
  "language_info": {
   "codemirror_mode": {
    "name": "ipython",
    "version": 3
   },
   "file_extension": ".py",
   "mimetype": "text/x-python",
   "name": "python",
   "nbconvert_exporter": "python",
   "pygments_lexer": "ipython3",
   "version": "3.6.7"
  }
 },
 "nbformat": 4,
 "nbformat_minor": 2
}

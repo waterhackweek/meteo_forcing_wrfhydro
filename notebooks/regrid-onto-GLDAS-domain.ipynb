{
 "cells": [
  {
   "cell_type": "markdown",
   "metadata": {},
   "source": [
    "This notebooks is for aligning netcdf grids"
   ]
  },
  {
   "cell_type": "code",
<<<<<<< HEAD
   "execution_count": 1,
=======
   "execution_count": 191,
>>>>>>> b49bf789d03d1346413ea025661cdb400eefb637
   "metadata": {},
   "outputs": [],
   "source": [
    "import os\n",
    "import numpy\n",
    "import xarray as xr\n",
    "from scipy.misc import imresize\n",
    "\n",
    "import warnings\n",
    "warnings.filterwarnings(\"ignore\")"
   ]
  },
  {
   "cell_type": "code",
<<<<<<< HEAD
   "execution_count": 2,
=======
   "execution_count": 192,
>>>>>>> b49bf789d03d1346413ea025661cdb400eefb637
   "metadata": {},
   "outputs": [],
   "source": [
    "ds_fine = xr.open_dataset('../example_output/nwm.20190321/nwm.t00z.analysis_assim.forcing.tm00.hawaii.nc')\n",
    "ds_coarse = xr.open_dataset('../example_data/Hydro_Estimator_netcdf/Hydro_Estimator201908312.nc')"
   ]
  },
  {
   "cell_type": "markdown",
   "metadata": {},
   "source": [
    "Look at the shapes of these datasets"
   ]
  },
  {
   "cell_type": "code",
<<<<<<< HEAD
   "execution_count": 3,
=======
   "execution_count": 217,
>>>>>>> b49bf789d03d1346413ea025661cdb400eefb637
   "metadata": {},
   "outputs": [
    {
     "ename": "AttributeError",
     "evalue": "'Dataset' object has no attribute 'lat'",
     "output_type": "error",
     "traceback": [
      "\u001b[0;31m---------------------------------------------------------------------------\u001b[0m",
      "\u001b[0;31mAttributeError\u001b[0m                            Traceback (most recent call last)",
      "\u001b[0;32m<ipython-input-3-acf4e405eebc>\u001b[0m in \u001b[0;36m<module>\u001b[0;34m()\u001b[0m\n\u001b[0;32m----> 1\u001b[0;31m \u001b[0mshape_fine\u001b[0m \u001b[0;34m=\u001b[0m \u001b[0mds_fine\u001b[0m\u001b[0;34m.\u001b[0m\u001b[0mlat\u001b[0m\u001b[0;34m.\u001b[0m\u001b[0mvalues\u001b[0m\u001b[0;34m.\u001b[0m\u001b[0mshape\u001b[0m\u001b[0;34m\u001b[0m\u001b[0;34m\u001b[0m\u001b[0m\n\u001b[0m\u001b[1;32m      2\u001b[0m \u001b[0mshape_coarse\u001b[0m \u001b[0;34m=\u001b[0m \u001b[0mds_coarse\u001b[0m\u001b[0;34m.\u001b[0m\u001b[0mSWdown_f_tavg\u001b[0m\u001b[0;34m.\u001b[0m\u001b[0mshape\u001b[0m\u001b[0;34m\u001b[0m\u001b[0;34m\u001b[0m\u001b[0m\n\u001b[1;32m      3\u001b[0m \u001b[0;34m\u001b[0m\u001b[0m\n\u001b[1;32m      4\u001b[0m \u001b[0mprint\u001b[0m\u001b[0;34m(\u001b[0m\u001b[0;34m'Fine resolution shape: %s'\u001b[0m \u001b[0;34m%\u001b[0m \u001b[0mstr\u001b[0m\u001b[0;34m(\u001b[0m\u001b[0mshape_fine\u001b[0m\u001b[0;34m)\u001b[0m\u001b[0;34m)\u001b[0m\u001b[0;34m\u001b[0m\u001b[0;34m\u001b[0m\u001b[0m\n\u001b[1;32m      5\u001b[0m \u001b[0mprint\u001b[0m\u001b[0;34m(\u001b[0m\u001b[0;34m'Coarse resolution shape: %s'\u001b[0m \u001b[0;34m%\u001b[0m \u001b[0mstr\u001b[0m\u001b[0;34m(\u001b[0m\u001b[0mshape_coarse\u001b[0m\u001b[0;34m)\u001b[0m\u001b[0;34m)\u001b[0m\u001b[0;34m\u001b[0m\u001b[0;34m\u001b[0m\u001b[0m\n",
      "\u001b[0;32m/opt/conda/lib/python3.6/site-packages/xarray/core/common.py\u001b[0m in \u001b[0;36m__getattr__\u001b[0;34m(self, name)\u001b[0m\n\u001b[1;32m    175\u001b[0m                     \u001b[0;32mreturn\u001b[0m \u001b[0msource\u001b[0m\u001b[0;34m[\u001b[0m\u001b[0mname\u001b[0m\u001b[0;34m]\u001b[0m\u001b[0;34m\u001b[0m\u001b[0;34m\u001b[0m\u001b[0m\n\u001b[1;32m    176\u001b[0m         raise AttributeError(\"%r object has no attribute %r\" %\n\u001b[0;32m--> 177\u001b[0;31m                              (type(self).__name__, name))\n\u001b[0m\u001b[1;32m    178\u001b[0m \u001b[0;34m\u001b[0m\u001b[0m\n\u001b[1;32m    179\u001b[0m     \u001b[0;32mdef\u001b[0m \u001b[0m__setattr__\u001b[0m\u001b[0;34m(\u001b[0m\u001b[0mself\u001b[0m\u001b[0;34m,\u001b[0m \u001b[0mname\u001b[0m\u001b[0;34m,\u001b[0m \u001b[0mvalue\u001b[0m\u001b[0;34m)\u001b[0m\u001b[0;34m:\u001b[0m\u001b[0;34m\u001b[0m\u001b[0;34m\u001b[0m\u001b[0m\n",
      "\u001b[0;31mAttributeError\u001b[0m: 'Dataset' object has no attribute 'lat'"
     ]
    }
   ],
   "source": [
    "shape_fine = ds_fine.lat.values.shape\n",
    "shape_coarse = ds_coarse.SWdown_f_tavg.shape\n",
    "\n",
    "print('Fine resolution shape: %s' % str(shape_fine))\n",
    "print('Coarse resolution shape: %s' % str(shape_coarse))"
   ]
  },
  {
   "cell_type": "markdown",
   "metadata": {},
   "source": [
    "Take a look at the data and make sure there are non-nan values"
   ]
  },
  {
   "cell_type": "code",
   "execution_count": 194,
   "metadata": {},
   "outputs": [
    {
     "data": {
      "text/plain": [
       "<xarray.DataArray 'Rainf_f_tavg' (time: 1, lat: 600, lon: 1440)>\n",
       "[864000 values with dtype=float32]\n",
       "Coordinates:\n",
       "  * lat      (lat) float32 -59.875 -59.625 -59.375 ... 89.375 89.625 89.875\n",
       "  * lon      (lon) float32 -179.875 -179.625 -179.375 ... 179.625 179.875\n",
       "  * time     (time) datetime64[ns] 2019-02-26\n",
       "Attributes:\n",
       "    units:          kg m-2 s-1\n",
       "    standard_name:  precipitation_flux\n",
       "    long_name:      Total precipitation rate\n",
       "    cell_methods:   time: mean\n",
       "    vmin:           0.0\n",
       "    vmax:           0.009105"
      ]
     },
     "execution_count": 194,
     "metadata": {},
     "output_type": "execute_result"
    }
   ],
   "source": [
    "ds_coarse.Rainf_f_tavg"
   ]
  },
  {
   "cell_type": "code",
   "execution_count": 195,
   "metadata": {},
   "outputs": [],
   "source": [
    "arr = ds_coarse.Rainf_f_tavg.values[0]"
   ]
  },
  {
   "cell_type": "code",
   "execution_count": 196,
   "metadata": {},
   "outputs": [
    {
     "data": {
      "text/plain": [
       "0.0"
      ]
     },
     "execution_count": 196,
     "metadata": {},
     "output_type": "execute_result"
    }
   ],
   "source": [
    "numpy.nanmin(ds_coarse.Rainf_f_tavg.values)"
   ]
  },
  {
   "cell_type": "code",
   "execution_count": 197,
   "metadata": {},
   "outputs": [
    {
     "data": {
      "text/plain": [
       "0.0091049997"
      ]
     },
     "execution_count": 197,
     "metadata": {},
     "output_type": "execute_result"
    }
   ],
   "source": [
    "numpy.nanmax(ds_coarse.Rainf_f_tavg.values)"
   ]
  },
  {
   "cell_type": "markdown",
   "metadata": {},
   "source": [
    "Get the corner lat/lon for the target array"
   ]
  },
  {
   "cell_type": "code",
   "execution_count": 198,
   "metadata": {},
   "outputs": [],
   "source": [
    "xmin = ds_fine.lon.values.min()\n",
    "xmax = ds_fine.lon.values.max()\n",
    "ymin = ds_fine.lat.values.min()\n",
    "ymax = ds_fine.lat.values.max()"
   ]
  },
  {
   "cell_type": "markdown",
   "metadata": {},
   "source": [
    "Select all values in the source array within this range"
   ]
  },
  {
   "cell_type": "code",
   "execution_count": 199,
   "metadata": {},
   "outputs": [],
   "source": [
    "lons = ds_coarse.lon.values\n",
    "lats = ds_coarse.lat.values"
   ]
  },
  {
   "cell_type": "code",
   "execution_count": 200,
   "metadata": {},
   "outputs": [],
   "source": [
    "# get the coordinates in the source array that match the range of the target\n",
    "inner_lons = numpy.where((lons < xmax) & (lons > xmin))\n",
    "inner_lats = numpy.where((lats < ymax) & (lats > ymin))"
   ]
  },
  {
   "cell_type": "code",
   "execution_count": 201,
   "metadata": {},
   "outputs": [
    {
     "data": {
      "text/plain": [
       "(array([87, 88, 89]),)"
      ]
     },
     "execution_count": 201,
     "metadata": {},
     "output_type": "execute_result"
    }
   ],
   "source": [
    "inner_lons"
   ]
  },
  {
   "cell_type": "code",
   "execution_count": 202,
   "metadata": {},
   "outputs": [
    {
     "data": {
      "text/plain": [
       "(array([325, 326]),)"
      ]
     },
     "execution_count": 202,
     "metadata": {},
     "output_type": "execute_result"
    }
   ],
   "source": [
    "inner_lats"
   ]
  },
  {
   "cell_type": "code",
   "execution_count": 203,
   "metadata": {},
   "outputs": [],
   "source": [
    "# define index bounds for selecting data using numpy indexing\n",
    "llon = inner_lons[0].min()\n",
    "ulon = inner_lons[0].max() + 1\n",
    "llat = inner_lats[0].min()\n",
    "ulat = inner_lats[0].max() + 1"
   ]
  },
  {
   "cell_type": "code",
   "execution_count": 204,
   "metadata": {},
   "outputs": [
    {
     "name": "stdout",
     "output_type": "stream",
     "text": [
      "[[ nan  nan]\n",
      " [ nan  nan]\n",
      " [ nan  nan]]\n"
     ]
    }
   ],
   "source": [
    "# select the data from the target for this range\n",
    "arr = ds_coarse['Rainf_f_tavg'][0].values\n",
    "subset = arr[llon:ulon, llat:ulat]\n",
    "print(subset)"
   ]
  },
  {
   "cell_type": "code",
   "execution_count": 205,
   "metadata": {},
   "outputs": [],
   "source": [
    "# insert some random values (testing only)\n",
    "subset[0][1] = 1000\n",
    "subset[2][0] = 200"
   ]
  },
  {
   "cell_type": "code",
   "execution_count": 206,
   "metadata": {},
   "outputs": [],
   "source": [
    "# replace nan with 0\n",
    "subset = numpy.nan_to_num(subset)\n",
    "\n",
    "# get the max value used for converting the interpolated data back into\n",
    "# the original range\n",
    "subset_max = subset.max()"
   ]
  },
  {
   "cell_type": "code",
   "execution_count": 207,
   "metadata": {},
   "outputs": [
    {
     "data": {
      "text/plain": [
       "array([[    0.,  1000.],\n",
       "       [    0.,     0.],\n",
       "       [  200.,     0.]], dtype=float32)"
      ]
     },
     "execution_count": 207,
     "metadata": {},
     "output_type": "execute_result"
    }
   ],
   "source": [
    "subset"
   ]
  },
  {
   "cell_type": "code",
   "execution_count": 208,
   "metadata": {},
   "outputs": [],
   "source": [
    "# resize the array to the shape of the target\n",
    "d = imresize(subset,\n",
    "         (10,10),\n",
    "         interp='bilinear',\n",
    "         mode=None)\n"
   ]
  },
  {
   "cell_type": "code",
   "execution_count": 209,
   "metadata": {},
   "outputs": [
    {
     "data": {
      "text/plain": [
       "array([[    0.        ,     0.        ,     0.        ,   200.        ,\n",
       "          400.        ,   600.        ,   800.        ,  1000.        ,\n",
       "         1000.        ,  1000.        ],\n",
       "       [    0.        ,     0.        ,     0.        ,   200.        ,\n",
       "          400.        ,   600.        ,   800.        ,  1000.        ,\n",
       "         1000.        ,  1000.        ],\n",
       "       [    0.        ,     0.        ,     0.        ,   149.01960784,\n",
       "          301.96078431,   450.98039216,   600.        ,   749.01960784,\n",
       "          749.01960784,   749.01960784],\n",
       "       [    0.        ,     0.        ,     0.        ,    90.19607843,\n",
       "          180.39215686,   270.58823529,   360.78431373,   450.98039216,\n",
       "          450.98039216,   450.98039216],\n",
       "       [    0.        ,     0.        ,     0.        ,    31.37254902,\n",
       "           58.82352941,    90.19607843,   121.56862745,   149.01960784,\n",
       "          149.01960784,   149.01960784],\n",
       "       [   31.37254902,    31.37254902,    31.37254902,    23.52941176,\n",
       "           19.60784314,    11.76470588,     7.84313725,     0.        ,\n",
       "            0.        ,     0.        ],\n",
       "       [   90.19607843,    90.19607843,    90.19607843,    70.58823529,\n",
       "           54.90196078,    35.29411765,    19.60784314,     0.        ,\n",
       "            0.        ,     0.        ],\n",
       "       [  149.01960784,   149.01960784,   149.01960784,   121.56862745,\n",
       "           90.19607843,    58.82352941,    31.37254902,     0.        ,\n",
       "            0.        ,     0.        ],\n",
       "       [  200.        ,   200.        ,   200.        ,   160.78431373,\n",
       "          121.56862745,    78.43137255,    39.21568627,     0.        ,\n",
       "            0.        ,     0.        ],\n",
       "       [  200.        ,   200.        ,   200.        ,   160.78431373,\n",
       "          121.56862745,    78.43137255,    39.21568627,     0.        ,\n",
       "            0.        ,     0.        ]])"
      ]
     },
     "execution_count": 209,
     "metadata": {},
     "output_type": "execute_result"
    }
   ],
   "source": [
    "# convert from uint8 back into our original range of data\n",
    "d = d/255 * subset_max\n",
    "d"
   ]
  },
  {
   "cell_type": "markdown",
   "metadata": {},
   "source": [
    "Create a function to do these steps"
   ]
  },
  {
   "cell_type": "code",
   "execution_count": 220,
   "metadata": {},
   "outputs": [],
   "source": [
    "def regrid_variables(source, target, variables):\n",
    "    ds_fine = xr.open_dataset(target)\n",
    "    ds_coarse = xr.open_dataset(source)\n",
    "    target_shape = ds_fine.lat.values.shape\n",
    "    \n",
    "    xmin = ds_fine.lon.values.min()\n",
    "    xmax = ds_fine.lon.values.max()\n",
    "    ymin = ds_fine.lat.values.min()\n",
    "    ymax = ds_fine.lat.values.max()\n",
    "    \n",
    "    lons = ds_coarse.lon.values\n",
    "    lats = ds_coarse.lat.values\n",
    "\n",
    "    # get the coordinates in the source array that match the\n",
    "    # range of the target\n",
    "    inner_lons = numpy.where((lons < xmax) & (lons > xmin))\n",
    "    inner_lats = numpy.where((lats < ymax) & (lats > ymin))\n",
    "    \n",
    "    # define index bounds for selecting data using numpy indexing\n",
    "    llon = inner_lons[0].min()\n",
    "    ulon = inner_lons[0].max() + 1\n",
    "    llat = inner_lats[0].min()\n",
    "    ulat = inner_lats[0].max() + 1\n",
    "    \n",
    "    regridded_data = {}\n",
    "    for v in variables:\n",
    "    \n",
    "        # select the data from the target for this range\n",
    "        arr = ds_coarse[v][0].values\n",
    "        subset = arr[llon:ulon, llat:ulat]\n",
    "\n",
    "        # replace nan with 0\n",
    "        subset = numpy.nan_to_num(subset)\n",
    "\n",
    "        # get the max value used for converting the interpolated data back into\n",
    "        # the original range\n",
    "        subset_max = subset.max()\n",
    "\n",
    "\n",
    "        # resize the array to the shape of the target\n",
    "        d = imresize(subset,\n",
    "                 target_shape,\n",
    "                 interp='bilinear',\n",
    "                 mode=None)\n",
    "\n",
    "\n",
    "        # convert from uint8 back into our original range of data\n",
    "        d = d/255 * subset_max\n",
    "        regridded_data[v] = d\n",
    "    return regridded_data"
   ]
  },
  {
   "cell_type": "code",
   "execution_count": 224,
   "metadata": {},
   "outputs": [
    {
     "name": "stdout",
     "output_type": "stream",
     "text": [
      "\n",
      "GLDAS_NOAH025_3H.A20190226.0000.021.nc4\n",
      "Wind_f_inst: maximum value is 0\n",
      "Rainf_f_tavg: maximum value is 0\n",
      "Tair_f_inst: maximum value is 0\n",
      "Qair_f_inst: maximum value is 0\n",
      "Psurf_f_inst: maximum value is 0\n",
      "SWdown_f_tavg: maximum value is 0\n",
      "LWdown_f_tavg: maximum value is 0\n",
      "\n",
      "GLDAS_NOAH025_3H.A20190226.0300.021.nc4\n",
      "Wind_f_inst: maximum value is 0\n",
      "Rainf_f_tavg: maximum value is 0\n",
      "Tair_f_inst: maximum value is 0\n",
      "Qair_f_inst: maximum value is 0\n",
      "Psurf_f_inst: maximum value is 0\n",
      "SWdown_f_tavg: maximum value is 0\n",
      "LWdown_f_tavg: maximum value is 0\n",
      "\n",
      "GLDAS_NOAH025_3H.A20190226.0600.021.nc4\n",
      "Wind_f_inst: maximum value is 0\n",
      "Rainf_f_tavg: maximum value is 0\n",
      "Tair_f_inst: maximum value is 0\n",
      "Qair_f_inst: maximum value is 0\n",
      "Psurf_f_inst: maximum value is 0\n",
      "SWdown_f_tavg: maximum value is 0\n",
      "LWdown_f_tavg: maximum value is 0\n",
      "\n",
      "GLDAS_NOAH025_3H.A20190226.0900.021.nc4\n",
      "Wind_f_inst: maximum value is 0\n",
      "Rainf_f_tavg: maximum value is 0\n",
      "Tair_f_inst: maximum value is 0\n",
      "Qair_f_inst: maximum value is 0\n",
      "Psurf_f_inst: maximum value is 0\n",
      "SWdown_f_tavg: maximum value is 0\n",
      "LWdown_f_tavg: maximum value is 0\n",
      "\n",
      "GLDAS_NOAH025_3H.A20190226.1200.021.nc4\n",
      "Wind_f_inst: maximum value is 0\n",
      "Rainf_f_tavg: maximum value is 0\n",
      "Tair_f_inst: maximum value is 0\n",
      "Qair_f_inst: maximum value is 0\n",
      "Psurf_f_inst: maximum value is 0\n",
      "SWdown_f_tavg: maximum value is 0\n",
      "LWdown_f_tavg: maximum value is 0\n",
      "\n",
      "GLDAS_NOAH025_3H.A20190226.1500.021.nc4\n",
      "Wind_f_inst: maximum value is 0\n",
      "Rainf_f_tavg: maximum value is 0\n",
      "Tair_f_inst: maximum value is 0\n",
      "Qair_f_inst: maximum value is 0\n",
      "Psurf_f_inst: maximum value is 0\n",
      "SWdown_f_tavg: maximum value is 0\n",
      "LWdown_f_tavg: maximum value is 0\n",
      "\n",
      "GLDAS_NOAH025_3H.A20190226.1800.021.nc4\n",
      "Wind_f_inst: maximum value is 0\n",
      "Rainf_f_tavg: maximum value is 0\n",
      "Tair_f_inst: maximum value is 0\n",
      "Qair_f_inst: maximum value is 0\n",
      "Psurf_f_inst: maximum value is 0\n",
      "SWdown_f_tavg: maximum value is 0\n",
      "LWdown_f_tavg: maximum value is 0\n",
      "\n",
      "GLDAS_NOAH025_3H.A20190226.2100.021.nc4\n",
      "Wind_f_inst: maximum value is 0\n",
      "Rainf_f_tavg: maximum value is 0\n",
      "Tair_f_inst: maximum value is 0\n",
      "Qair_f_inst: maximum value is 0\n",
      "Psurf_f_inst: maximum value is 0\n",
      "SWdown_f_tavg: maximum value is 0\n",
      "LWdown_f_tavg: maximum value is 0\n",
      "\n",
      "GLDAS_NOAH025_3H.A20190227.0000.021.nc4\n",
      "Wind_f_inst: maximum value is 0\n",
      "Rainf_f_tavg: maximum value is 0\n",
      "Tair_f_inst: maximum value is 0\n",
      "Qair_f_inst: maximum value is 0\n",
      "Psurf_f_inst: maximum value is 0\n",
      "SWdown_f_tavg: maximum value is 0\n",
      "LWdown_f_tavg: maximum value is 0\n",
      "\n",
      "GLDAS_NOAH025_3H.A20190227.0300.021.nc4\n",
      "Wind_f_inst: maximum value is 0\n",
      "Rainf_f_tavg: maximum value is 0\n",
      "Tair_f_inst: maximum value is 0\n",
      "Qair_f_inst: maximum value is 0\n",
      "Psurf_f_inst: maximum value is 0\n",
      "SWdown_f_tavg: maximum value is 0\n",
      "LWdown_f_tavg: maximum value is 0\n",
      "\n",
      "GLDAS_NOAH025_3H.A20190227.0600.021.nc4\n",
      "Wind_f_inst: maximum value is 0\n",
      "Rainf_f_tavg: maximum value is 0\n",
      "Tair_f_inst: maximum value is 0\n",
      "Qair_f_inst: maximum value is 0\n",
      "Psurf_f_inst: maximum value is 0\n",
      "SWdown_f_tavg: maximum value is 0\n",
      "LWdown_f_tavg: maximum value is 0\n",
      "\n",
      "GLDAS_NOAH025_3H.A20190227.0900.021.nc4\n",
      "Wind_f_inst: maximum value is 0\n",
      "Rainf_f_tavg: maximum value is 0\n",
      "Tair_f_inst: maximum value is 0\n",
      "Qair_f_inst: maximum value is 0\n",
      "Psurf_f_inst: maximum value is 0\n",
      "SWdown_f_tavg: maximum value is 0\n",
      "LWdown_f_tavg: maximum value is 0\n",
      "\n",
      "GLDAS_NOAH025_3H.A20190227.1200.021.nc4\n",
      "Wind_f_inst: maximum value is 0\n",
      "Rainf_f_tavg: maximum value is 0\n",
      "Tair_f_inst: maximum value is 0\n",
      "Qair_f_inst: maximum value is 0\n",
      "Psurf_f_inst: maximum value is 0\n",
      "SWdown_f_tavg: maximum value is 0\n",
      "LWdown_f_tavg: maximum value is 0\n",
      "\n",
      "GLDAS_NOAH025_3H.A20190227.1500.021.nc4\n",
      "Wind_f_inst: maximum value is 0\n",
      "Rainf_f_tavg: maximum value is 0\n",
      "Tair_f_inst: maximum value is 0\n",
      "Qair_f_inst: maximum value is 0\n",
      "Psurf_f_inst: maximum value is 0\n",
      "SWdown_f_tavg: maximum value is 0\n",
      "LWdown_f_tavg: maximum value is 0\n",
      "\n",
      "GLDAS_NOAH025_3H.A20190227.1800.021.nc4\n",
      "Wind_f_inst: maximum value is 0\n",
      "Rainf_f_tavg: maximum value is 0\n",
      "Tair_f_inst: maximum value is 0\n",
      "Qair_f_inst: maximum value is 0\n",
      "Psurf_f_inst: maximum value is 0\n",
      "SWdown_f_tavg: maximum value is 0\n",
      "LWdown_f_tavg: maximum value is 0\n",
      "\n",
      "GLDAS_NOAH025_3H.A20190227.2100.021.nc4\n",
      "Wind_f_inst: maximum value is 0\n",
      "Rainf_f_tavg: maximum value is 0\n",
      "Tair_f_inst: maximum value is 0\n",
      "Qair_f_inst: maximum value is 0\n",
      "Psurf_f_inst: maximum value is 0\n",
      "SWdown_f_tavg: maximum value is 0\n",
      "LWdown_f_tavg: maximum value is 0\n",
      "\n",
      "GLDAS_NOAH025_3H.A20190228.0000.021.nc4\n",
      "Wind_f_inst: maximum value is 0\n",
      "Rainf_f_tavg: maximum value is 0\n",
      "Tair_f_inst: maximum value is 0\n",
      "Qair_f_inst: maximum value is 0\n",
      "Psurf_f_inst: maximum value is 0\n",
      "SWdown_f_tavg: maximum value is 0\n",
      "LWdown_f_tavg: maximum value is 0\n",
      "\n",
      "GLDAS_NOAH025_3H.A20190228.0300.021.nc4\n",
      "Wind_f_inst: maximum value is 0\n",
      "Rainf_f_tavg: maximum value is 0\n",
      "Tair_f_inst: maximum value is 0\n",
      "Qair_f_inst: maximum value is 0\n",
      "Psurf_f_inst: maximum value is 0\n",
      "SWdown_f_tavg: maximum value is 0\n",
      "LWdown_f_tavg: maximum value is 0\n",
      "\n",
      "GLDAS_NOAH025_3H.A20190228.0600.021.nc4\n",
      "Wind_f_inst: maximum value is 0\n",
      "Rainf_f_tavg: maximum value is 0\n",
      "Tair_f_inst: maximum value is 0\n",
      "Qair_f_inst: maximum value is 0\n",
      "Psurf_f_inst: maximum value is 0\n",
      "SWdown_f_tavg: maximum value is 0\n",
      "LWdown_f_tavg: maximum value is 0\n",
      "\n",
      "GLDAS_NOAH025_3H.A20190228.0900.021.nc4\n",
      "Wind_f_inst: maximum value is 0\n",
      "Rainf_f_tavg: maximum value is 0\n",
      "Tair_f_inst: maximum value is 0\n",
      "Qair_f_inst: maximum value is 0\n",
      "Psurf_f_inst: maximum value is 0\n",
      "SWdown_f_tavg: maximum value is 0\n",
      "LWdown_f_tavg: maximum value is 0\n",
      "\n",
      "GLDAS_NOAH025_3H.A20190228.1200.021.nc4\n",
      "Wind_f_inst: maximum value is 0\n",
      "Rainf_f_tavg: maximum value is 0\n",
      "Tair_f_inst: maximum value is 0\n",
      "Qair_f_inst: maximum value is 0\n",
      "Psurf_f_inst: maximum value is 0\n",
      "SWdown_f_tavg: maximum value is 0\n",
      "LWdown_f_tavg: maximum value is 0\n",
      "\n",
      "GLDAS_NOAH025_3H.A20190228.1500.021.nc4\n",
      "Wind_f_inst: maximum value is 0\n",
      "Rainf_f_tavg: maximum value is 0\n",
      "Tair_f_inst: maximum value is 0\n",
      "Qair_f_inst: maximum value is 0\n",
      "Psurf_f_inst: maximum value is 0\n",
      "SWdown_f_tavg: maximum value is 0\n",
      "LWdown_f_tavg: maximum value is 0\n"
     ]
    }
   ],
   "source": [
    "target = '../example_data/GLDAS/FORCING/2019022600.LDASIN_DOMAIN1'\n",
    "variables = ['Wind_f_inst',            \n",
    "             'Rainf_f_tavg',           \n",
    "             'Tair_f_inst',            \n",
    "             'Qair_f_inst',            \n",
    "             'Psurf_f_inst',           \n",
    "             'SWdown_f_tavg',          \n",
    "             'LWdown_f_tavg']\n",
    "\n",
    "inputdir = '../example_data/GLDAS/input_files'\n",
    "source_files = os.listdir(inputdir)\n",
    "for f in source_files:\n",
    "    print('\\n%s' % f)\n",
    "    source = os.path.join(inputdir, f)\n",
    "    dat = regrid_variables(source, target, variables)\n",
    "    for k,v in dat.items():\n",
    "        max_val = dat[k].max()\n",
    "        if max_val > 0:\n",
    "            print(dat[k])\n",
    "        else:\n",
    "            print('%s: maximum value is 0' % (k) )"
   ]
  },
  {
   "cell_type": "code",
   "execution_count": 228,
   "metadata": {},
   "outputs": [
    {
     "data": {
      "text/plain": [
       "array([[ 0.,  0.,  0., ...,  0.,  0.,  0.],\n",
       "       [ 0.,  0.,  0., ...,  0.,  0.,  0.],\n",
       "       [ 0.,  0.,  0., ...,  0.,  0.,  0.],\n",
       "       ..., \n",
       "       [ 0.,  0.,  0., ...,  0.,  0.,  0.],\n",
       "       [ 0.,  0.,  0., ...,  0.,  0.,  0.],\n",
       "       [ 0.,  0.,  0., ...,  0.,  0.,  0.]])"
      ]
     },
     "execution_count": 228,
     "metadata": {},
     "output_type": "execute_result"
    }
   ],
   "source": []
  },
  {
   "cell_type": "code",
   "execution_count": null,
   "metadata": {},
   "outputs": [],
   "source": []
  }
 ],
 "metadata": {
  "kernelspec": {
   "display_name": "Python 3",
   "language": "python",
   "name": "python3"
  },
  "language_info": {
   "codemirror_mode": {
    "name": "ipython",
    "version": 3
   },
   "file_extension": ".py",
   "mimetype": "text/x-python",
   "name": "python",
   "nbconvert_exporter": "python",
   "pygments_lexer": "ipython3",
   "version": "3.6.7"
  }
 },
 "nbformat": 4,
 "nbformat_minor": 2
}

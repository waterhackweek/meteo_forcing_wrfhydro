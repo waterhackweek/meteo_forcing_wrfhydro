{
 "cells": [
  {
   "cell_type": "code",
   "execution_count": 1,
   "metadata": {},
   "outputs": [],
   "source": [
    "import xarray as xr\n",
    "import numpy as np\n",
    "from scipy import spatial"
   ]
  },
  {
   "cell_type": "code",
   "execution_count": 3,
   "metadata": {},
   "outputs": [],
   "source": [
    "f = '../example_data/GLDAS/FORCING/2019022600.LDASIN_DOMAIN1'\n",
    "ds = xr.open_dataset(f)\n",
    "lat = 21.241737\n",
    "lon = -158.28706\n",
    "variable = 'RAINRATE'"
   ]
  },
  {
   "cell_type": "code",
   "execution_count": 4,
   "metadata": {},
   "outputs": [],
   "source": [
    "# get lat, lon, and var as numpy arrays\n",
    "lats = ds.lat.values\n",
    "lons = ds.lon.values\n",
    "vals = ds[variable].values"
   ]
  },
  {
   "cell_type": "code",
   "execution_count": 5,
   "metadata": {},
   "outputs": [],
   "source": [
    "A = np.stack((np.ravel(lons), np.ravel(lats)), axis=-1)\n",
    "KDTree = spatial.KDTree(A)"
   ]
  },
  {
   "cell_type": "code",
   "execution_count": 6,
   "metadata": {},
   "outputs": [],
   "source": [
    "def nearest_coord(KDTree, pt):\n",
    "    distance, idx = KDTree.query(pt)\n",
    "    return (distance, idx)"
   ]
  },
  {
   "cell_type": "code",
   "execution_count": 7,
   "metadata": {},
   "outputs": [],
   "source": [
    "distance, idx = nearest_coord(KDTree, (lon, lat))\n",
    "i, j = np.unravel_index(idx, lons.shape)"
   ]
  },
  {
   "cell_type": "code",
   "execution_count": 25,
   "metadata": {},
   "outputs": [],
   "source": [
    "# insert data\n",
    "vals[0][i][j] = 10\n",
    "\n",
    "\n",
    "\n",
    "\n",
    "# insert at i, j\n",
    "#ds[variable].values = vals"
   ]
  },
  {
   "cell_type": "code",
   "execution_count": 13,
   "metadata": {},
   "outputs": [],
   "source": [
    "# after all data has been inserted, interpolate"
   ]
  },
  {
   "cell_type": "markdown",
   "metadata": {},
   "source": [
    "## interporate the data\n",
    "here is where to start, not working for now"
   ]
  },
  {
   "cell_type": "code",
   "execution_count": 20,
   "metadata": {},
   "outputs": [],
   "source": [
    "from scipy.interpolate import griddata\n",
    "import matplotlib\n",
    "import matplotlib.pyplot as plt"
   ]
  },
  {
   "cell_type": "code",
   "execution_count": 21,
   "metadata": {},
   "outputs": [],
   "source": [
    "vals2d = vals[0]\n",
    "pts = np.argwhere(~np.isnan(vals2d))\n",
    "dat = [vals2d[tuple(pt)] for pt in pts]"
   ]
  },
  {
   "cell_type": "code",
   "execution_count": 22,
   "metadata": {},
   "outputs": [],
   "source": [
    "x = np.linspace(0, 55, 56)\n",
    "y = np.linspace(0, 71, 72)\n",
    "X, Y = np.meshgrid(x, y)\n",
    "\n",
    "grid = griddata(pts, dat, (X, Y), method='cubic')"
   ]
  },
  {
   "cell_type": "code",
   "execution_count": 24,
   "metadata": {},
   "outputs": [
    {
     "data": {
      "image/png": "[encoded data removed]",
      "text/plain": [
       "<Figure size 432x288 with 1 Axes>"
      ]
     },
     "metadata": {},
     "output_type": "display_data"
    }
   ],
   "source": [
    "fig, ax = plt.subplots(nrows=1, ncols=1)\n",
    "ax.contourf(X, Y, grid)\n",
    "plt.show()"
   ]
  },
  {
   "cell_type": "code",
   "execution_count": null,
   "metadata": {},
   "outputs": [],
   "source": []
  }
 ],
 "metadata": {
  "kernelspec": {
   "display_name": "Python 3",
   "language": "python",
   "name": "python3"
  },
  "language_info": {
   "codemirror_mode": {
    "name": "ipython",
    "version": 3
   },
   "file_extension": ".py",
   "mimetype": "text/x-python",
   "name": "python",
   "nbconvert_exporter": "python",
   "pygments_lexer": "ipython3",
   "version": "3.6.8"
  }
 },
 "nbformat": 4,
 "nbformat_minor": 2
}

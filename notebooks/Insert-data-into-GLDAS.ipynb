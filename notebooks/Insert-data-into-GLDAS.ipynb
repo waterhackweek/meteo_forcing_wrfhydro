{
 "cells": [
  {
   "cell_type": "markdown",
   "metadata": {},
   "source": [
    "(note: not working yet but only the example interpolation)\n",
    "\n",
    "### Insert Hydro Estimator data to GLDAS"
   ]
  },
  {
   "cell_type": "code",
   "execution_count": 24,
   "metadata": {},
   "outputs": [],
   "source": [
    "import xarray as xr\n",
    "import numpy as np\n",
    "from scipy import spatial"
   ]
  },
  {
   "cell_type": "markdown",
   "metadata": {},
   "source": [
    "#### Reading GLDAS.nc data"
   ]
  },
  {
   "cell_type": "code",
   "execution_count": 25,
   "metadata": {},
   "outputs": [],
   "source": [
    "f = '../example_data/GLDAS/FORCING/2019022600.LDASIN_DOMAIN1'\n",
    "ds = xr.open_dataset(f)\n",
    "lat = 21.241737\n",
    "lon = -158.28706\n",
    "variable = 'RAINRATE'"
   ]
  },
  {
   "cell_type": "code",
   "execution_count": 26,
   "metadata": {},
   "outputs": [],
   "source": [
    "# get lat, lon, and var as numpy arrays\n",
    "lats = ds.lat.values\n",
    "lons = ds.lon.values\n",
    "vals = ds[variable].values"
   ]
  },
  {
   "cell_type": "code",
   "execution_count": 67,
   "metadata": {},
   "outputs": [
    {
     "data": {
      "text/plain": [
       "<xarray.Dataset>\n",
       "Dimensions:     (Time: 1, south_north: 56, west_east: 72)\n",
       "Dimensions without coordinates: Time, south_north, west_east\n",
       "Data variables:\n",
       "    lat         (south_north, west_east) float32 21.2417 21.2417 ... 21.7459\n",
       "    lon         (south_north, west_east) float32 -158.307 -158.297 ... -157.612\n",
       "    Times       |S20 ...\n",
       "    valid_time  (Time) datetime64[ns] ...\n",
       "    T2D         (Time, south_north, west_east) float64 ...\n",
       "    Q2D         (Time, south_north, west_east) float64 ...\n",
       "    U2D         (Time, south_north, west_east) float64 ...\n",
       "    V2D         (Time, south_north, west_east) float64 ...\n",
       "    PSFC        (Time, south_north, west_east) float64 ...\n",
       "    RAINRATE    (Time, south_north, west_east) float64 6.376e-06 ... nan\n",
       "    SWDOWN      (Time, south_north, west_east) float64 ...\n",
       "    LWDOWN      (Time, south_north, west_east) float64 ..."
      ]
     },
     "execution_count": 67,
     "metadata": {},
     "output_type": "execute_result"
    }
   ],
   "source": [
    "ds"
   ]
  },
  {
   "cell_type": "markdown",
   "metadata": {},
   "source": [
    "#### The original RAINRATE DATA from GLDAS"
   ]
  },
  {
   "cell_type": "code",
   "execution_count": 27,
   "metadata": {},
   "outputs": [],
   "source": [
    "rainrate = ds.RAINRATE"
   ]
  },
  {
   "cell_type": "code",
   "execution_count": 28,
   "metadata": {
    "scrolled": false
   },
   "outputs": [
    {
     "data": {
      "text/plain": [
       "<matplotlib.collections.QuadMesh at 0x7fa98c3e5d30>"
      ]
     },
     "execution_count": 28,
     "metadata": {},
     "output_type": "execute_result"
    },
    {
     "data": {
      "image/png": "[encoded data removed]",
      "text/plain": [
       "<Figure size 432x288 with 2 Axes>"
      ]
     },
     "metadata": {},
     "output_type": "display_data"
    }
   ],
   "source": [
    "rainrate.plot()"
   ]
  },
  {
   "cell_type": "markdown",
   "metadata": {},
   "source": [
    "#### Stack lat lon and index together"
   ]
  },
  {
   "cell_type": "code",
   "execution_count": 29,
   "metadata": {},
   "outputs": [],
   "source": [
    "A = np.stack((np.ravel(lons), np.ravel(lats)), axis=-1)\n",
    "KDTree = spatial.KDTree(A)"
   ]
  },
  {
   "cell_type": "code",
   "execution_count": 30,
   "metadata": {},
   "outputs": [],
   "source": [
    "def nearest_coord(KDTree, pt):\n",
    "    distance, idx = KDTree.query(pt)\n",
    "    return (distance, idx)"
   ]
  },
  {
   "cell_type": "code",
   "execution_count": 31,
   "metadata": {},
   "outputs": [],
   "source": [
    "distance, idx = nearest_coord(KDTree, (lon, lat))\n",
    "i, j = np.unravel_index(idx, lons.shape)"
   ]
  },
  {
   "cell_type": "markdown",
   "metadata": {},
   "source": [
    "#### Insert random data"
   ]
  },
  {
   "cell_type": "code",
   "execution_count": 32,
   "metadata": {},
   "outputs": [],
   "source": [
    "import random"
   ]
  },
  {
   "cell_type": "code",
   "execution_count": 37,
   "metadata": {},
   "outputs": [],
   "source": [
    "# insert random data\n",
    "for i in range(0, 56, 5):\n",
    "    for j in range (0, 72, 5):\n",
    "        vals[0][i][j] = random.uniform(0., 0.0001)\n",
    "\n",
    "\n",
    "# insert at i, j\n",
    "#ds[variable].values = vals"
   ]
  },
  {
   "cell_type": "code",
   "execution_count": 38,
   "metadata": {},
   "outputs": [
    {
     "data": {
      "text/plain": [
       "<matplotlib.collections.QuadMesh at 0x7fa98c1dd748>"
      ]
     },
     "execution_count": 38,
     "metadata": {},
     "output_type": "execute_result"
    },
    {
     "data": {
      "image/png": "[encoded data removed]",
      "text/plain": [
       "<Figure size 432x288 with 2 Axes>"
      ]
     },
     "metadata": {},
     "output_type": "display_data"
    }
   ],
   "source": [
    "rainrate.plot()"
   ]
  },
  {
   "cell_type": "markdown",
   "metadata": {},
   "source": [
    "#### interpolate the data\n",
    "\n",
    "yufen: the interpolate doesn't work because it only has one point that has the value (=10) much larger than the rest of value (10-5E)."
   ]
  },
  {
   "cell_type": "code",
   "execution_count": 39,
   "metadata": {},
   "outputs": [],
   "source": [
    "from scipy.interpolate import griddata\n",
    "import matplotlib\n",
    "import matplotlib.pyplot as plt"
   ]
  },
  {
   "cell_type": "code",
   "execution_count": 40,
   "metadata": {},
   "outputs": [],
   "source": [
    "vals2d = vals[0]\n",
    "pts = np.argwhere(~np.isnan(vals2d))\n",
    "dat = [vals2d[tuple(pt)] for pt in pts]"
   ]
  },
  {
   "cell_type": "code",
   "execution_count": 41,
   "metadata": {},
   "outputs": [],
   "source": [
    "x = np.linspace(0, 71, 72)\n",
    "y = np.linspace(0, 55, 56)\n",
    "X, Y = np.meshgrid(x, y)\n",
    "\n",
    "grid = griddata(pts, dat, (Y, X), method='cubic')"
   ]
  },
  {
   "cell_type": "code",
   "execution_count": 42,
   "metadata": {},
   "outputs": [
    {
     "data": {
      "image/png": "[encoded data removed]",
      "text/plain": [
       "<Figure size 432x288 with 1 Axes>"
      ]
     },
     "metadata": {},
     "output_type": "display_data"
    }
   ],
   "source": [
    "fig, ax = plt.subplots(nrows=1, ncols=1)\n",
    "ax.contourf(X, Y, grid)\n",
    "plt.show()"
   ]
  }
 ],
 "metadata": {
  "kernelspec": {
   "display_name": "Python 3",
   "language": "python",
   "name": "python3"
  },
  "language_info": {
   "codemirror_mode": {
    "name": "ipython",
    "version": 3
   },
   "file_extension": ".py",
   "mimetype": "text/x-python",
   "name": "python",
   "nbconvert_exporter": "python",
   "pygments_lexer": "ipython3",
   "version": "3.6.7"
  }
 },
 "nbformat": 4,
 "nbformat_minor": 2
}

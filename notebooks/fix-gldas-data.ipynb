{
 "cells": [
  {
   "cell_type": "markdown",
   "metadata": {},
   "source": [
    "This notebook fixes negative values in the GLDAS data that has been regridded."
   ]
  },
  {
   "cell_type": "code",
   "execution_count": 24,
   "metadata": {},
   "outputs": [],
   "source": [
    "import os\n",
    "import xarray as xr\n",
    "import numpy as np"
   ]
  },
  {
   "cell_type": "code",
   "execution_count": 25,
   "metadata": {},
   "outputs": [],
   "source": [
    "ncdata = '../example_data/GLDAS/FORCING'"
   ]
  },
  {
   "cell_type": "code",
   "execution_count": 26,
   "metadata": {},
   "outputs": [
    {
     "name": "stdout",
     "output_type": "stream",
     "text": [
      "2019022600.LDASIN_DOMAIN1\n",
      "2019022603.LDASIN_DOMAIN1\n",
      "2019022606.LDASIN_DOMAIN1\n",
      "2019022609.LDASIN_DOMAIN1\n",
      "2019022612.LDASIN_DOMAIN1\n",
      "2019022615.LDASIN_DOMAIN1\n",
      "2019022618.LDASIN_DOMAIN1\n",
      "2019022621.LDASIN_DOMAIN1\n",
      "2019022700.LDASIN_DOMAIN1\n",
      "2019022703.LDASIN_DOMAIN1\n",
      "2019022706.LDASIN_DOMAIN1\n",
      "2019022709.LDASIN_DOMAIN1\n",
      "2019022712.LDASIN_DOMAIN1\n",
      "2019022715.LDASIN_DOMAIN1\n",
      "2019022718.LDASIN_DOMAIN1\n",
      "2019022721.LDASIN_DOMAIN1\n",
      "2019022800.LDASIN_DOMAIN1\n",
      "2019022803.LDASIN_DOMAIN1\n",
      "2019022806.LDASIN_DOMAIN1\n",
      "2019022809.LDASIN_DOMAIN1\n",
      "2019022812.LDASIN_DOMAIN1\n",
      "2019022815.LDASIN_DOMAIN1\n"
     ]
    }
   ],
   "source": [
    "# list the FORCING files\n",
    "ncfiles = []\n",
    "for file in os.listdir(ncdata):\n",
    "    if file.endswith(\"LDASIN_DOMAIN1\"):\n",
    "        ncfiles.append(os.path.join(ncdata, file))\n",
    "        print(file)"
   ]
  },
  {
   "cell_type": "code",
   "execution_count": 27,
   "metadata": {},
   "outputs": [],
   "source": [
    "# load data using xarray\n",
    "ds = xr.open_dataset(ncfiles[3])"
   ]
  },
  {
   "cell_type": "code",
   "execution_count": 5,
   "metadata": {},
   "outputs": [
    {
     "name": "stdout",
     "output_type": "stream",
     "text": [
      "2019022600.LDASIN_DOMAIN1\n",
      "\n",
      "\n",
      "2019022603.LDASIN_DOMAIN1\n",
      "\n",
      "\n",
      "2019022606.LDASIN_DOMAIN1\n",
      "\n",
      "\n",
      "2019022609.LDASIN_DOMAIN1\n",
      "\n",
      "\n",
      "2019022612.LDASIN_DOMAIN1\n",
      "\n",
      "\n",
      "2019022615.LDASIN_DOMAIN1\n",
      "\n",
      "\n",
      "2019022618.LDASIN_DOMAIN1\n",
      "\n",
      "\n",
      "2019022621.LDASIN_DOMAIN1\n",
      "\n",
      "\n",
      "2019022700.LDASIN_DOMAIN1\n",
      "\n",
      "\n",
      "2019022703.LDASIN_DOMAIN1\n",
      "\n",
      "\n",
      "2019022706.LDASIN_DOMAIN1\n",
      "\n",
      "\n",
      "2019022709.LDASIN_DOMAIN1\n",
      "\n",
      "\n",
      "2019022712.LDASIN_DOMAIN1\n",
      "\n",
      "\n",
      "2019022715.LDASIN_DOMAIN1\n",
      "\n",
      "\n",
      "2019022718.LDASIN_DOMAIN1\n",
      "\n",
      "\n",
      "2019022721.LDASIN_DOMAIN1\n",
      "\n",
      "\n",
      "2019022800.LDASIN_DOMAIN1\n",
      "\n",
      "\n",
      "2019022803.LDASIN_DOMAIN1\n",
      "\n",
      "\n",
      "2019022806.LDASIN_DOMAIN1\n",
      "\n",
      "\n",
      "2019022809.LDASIN_DOMAIN1\n",
      "\n",
      "\n",
      "2019022812.LDASIN_DOMAIN1\n",
      "\n",
      "\n",
      "2019022815.LDASIN_DOMAIN1\n",
      "\n",
      "\n"
     ]
    }
   ],
   "source": [
    "for ncf in ncfiles:\n",
    "    ds = xr.open_dataset(ncf)\n",
    "    variables = list(ds.variables)\n",
    "    print(ncf.split('/')[-1])\n",
    "    for v in variables:\n",
    "        if hasattr(ds[v], 'vmin'):\n",
    "            minimum = ds[v].vmin\n",
    "            #if minimum < 0:\n",
    "            print('%10s:\\t%3.2f - %3.2f' % (v, ds[v].vmin, ds[v].vmax))\n",
    "    print('\\n')"
   ]
  },
  {
   "cell_type": "code",
   "execution_count": 32,
   "metadata": {},
   "outputs": [
    {
     "data": {
      "text/plain": [
       "array([[[ True,  True,  True, ...,  True,  True,  True],\n",
       "        [ True,  True,  True, ...,  True,  True,  True],\n",
       "        [ True,  True,  True, ...,  True,  True,  True],\n",
       "        ..., \n",
       "        [ True,  True,  True, ...,  True,  True,  True],\n",
       "        [ True,  True,  True, ...,  True,  True,  True],\n",
       "        [ True,  True,  True, ...,  True,  True,  True]]], dtype=bool)"
      ]
     },
     "execution_count": 32,
     "metadata": {},
     "output_type": "execute_result"
    }
   ],
   "source": [
    "ds['T2D'].vminzzz"
   ]
  },
  {
   "cell_type": "code",
   "execution_count": 16,
   "metadata": {},
   "outputs": [
    {
     "data": {
      "text/plain": [
       "481.82529"
      ]
     },
     "execution_count": 16,
     "metadata": {},
     "output_type": "execute_result"
    }
   ],
   "source": [
    "ds.LWDOWN.vmax"
   ]
  },
  {
   "cell_type": "code",
   "execution_count": null,
   "metadata": {},
   "outputs": [],
   "source": []
  },
  {
   "cell_type": "code",
   "execution_count": null,
   "metadata": {},
   "outputs": [],
   "source": []
  },
  {
   "cell_type": "code",
   "execution_count": null,
   "metadata": {},
   "outputs": [],
   "source": []
  }
 ],
 "metadata": {
  "kernelspec": {
   "display_name": "Python 3",
   "language": "python",
   "name": "python3"
  },
  "language_info": {
   "codemirror_mode": {
    "name": "ipython",
    "version": 3
   },
   "file_extension": ".py",
   "mimetype": "text/x-python",
   "name": "python",
   "nbconvert_exporter": "python",
   "pygments_lexer": "ipython3",
   "version": "3.6.7"
  }
 },
 "nbformat": 4,
 "nbformat_minor": 2
}

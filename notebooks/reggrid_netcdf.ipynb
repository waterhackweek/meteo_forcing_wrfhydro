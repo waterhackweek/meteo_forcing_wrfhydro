{
 "cells": [
  {
   "cell_type": "markdown",
   "metadata": {},
   "source": [
    "# Subset interested region from a NetCDF file\n",
    "\n",
    "This notebook is for subset certain region and reggrid for interested areas from a NetCDF that including lat, lon information"
   ]
  },
  {
   "cell_type": "code",
   "execution_count": 93,
   "metadata": {},
   "outputs": [],
   "source": [
    "import xarray as xr\n",
    "import numpy as np\n",
    "import pandas as pd\n",
    "import sys"
   ]
  },
  {
   "cell_type": "markdown",
   "metadata": {},
   "source": [
    "#### Hydro Estimator "
   ]
  },
  {
   "cell_type": "code",
   "execution_count": 109,
   "metadata": {},
   "outputs": [
    {
     "name": "stdout",
     "output_type": "stream",
     "text": [
      "CPU times: user 2min 49s, sys: 7.38 s, total: 2min 57s\n",
      "Wall time: 2min 55s\n"
     ]
    }
   ],
   "source": [
    "%%time\n",
    "latlon = np.loadtxt('../example_data/Hydro_Estimator/zworld.latlon2', delimiter=\"\\t\", dtype=str)"
   ]
  },
  {
   "cell_type": "code",
   "execution_count": 110,
   "metadata": {},
   "outputs": [
    {
     "name": "stdout",
     "output_type": "stream",
     "text": [
      "CPU times: user 1min 5s, sys: 16.4 s, total: 1min 21s\n",
      "Wall time: 1min 20s\n"
     ]
    }
   ],
   "source": [
    "%%time\n",
    "latlon_values = np.array(' '.join(latlon).split(' '))\n",
    "latlon_values = list(filter(None, latlon_values))"
   ]
  },
  {
   "cell_type": "code",
   "execution_count": 111,
   "metadata": {},
   "outputs": [],
   "source": [
    "lat_all = latlon_values[0:-1:2]\n",
    "lon_all = latlon_values[1::2]\n",
    "lat = np.array(lat, dtype=np.float64)\n",
    "lon = np.array(lon, dtype=np.float64)"
   ]
  },
  {
   "cell_type": "markdown",
   "metadata": {},
   "source": [
    "#### Set the interested area\n"
   ]
  },
  {
   "cell_type": "code",
   "execution_count": 83,
   "metadata": {},
   "outputs": [],
   "source": [
    "lat_max = 22\n",
    "lat_min = 18\n",
    "lon_min = -161\n",
    "lon_max = -154"
   ]
  },
  {
   "cell_type": "code",
   "execution_count": 96,
   "metadata": {},
   "outputs": [],
   "source": [
    "f = '../example_data/GLDAS/FORCING/2019022600.LDASIN_DOMAIN1'\n",
    "ds = xr.open_dataset(f)"
   ]
  },
  {
   "cell_type": "code",
   "execution_count": 104,
   "metadata": {},
   "outputs": [],
   "source": [
    "ds_lat = ds['lat'].values\n",
    "ds_lon = ds['lon'].values"
   ]
  },
  {
   "cell_type": "code",
   "execution_count": 105,
   "metadata": {
    "scrolled": false
   },
   "outputs": [
    {
     "data": {
      "text/plain": [
       "array([[ 0.00979614,  0.00979614,  0.00979614, ...,  0.00979614,\n",
       "         0.00979614,  0.00979614],\n",
       "       [ 0.00979614,  0.00979614,  0.00979614, ...,  0.00979614,\n",
       "         0.0098114 ,  0.00979614],\n",
       "       [ 0.00979614,  0.00979614,  0.0098114 , ...,  0.0098114 ,\n",
       "         0.00979614,  0.00979614],\n",
       "       ..., \n",
       "       [ 0.00982666,  0.00984192,  0.00982666, ...,  0.00982666,\n",
       "         0.00982666,  0.00982666],\n",
       "       [ 0.00982666,  0.00982666,  0.00982666, ...,  0.00982666,\n",
       "         0.00982666,  0.00984192],\n",
       "       [ 0.00982666,  0.00982666,  0.00982666, ...,  0.00982666,\n",
       "         0.00984192,  0.00982666]], dtype=float32)"
      ]
     },
     "execution_count": 105,
     "metadata": {},
     "output_type": "execute_result"
    }
   ],
   "source": [
    "np.diff(ds_lon)"
   ]
  },
  {
   "cell_type": "markdown",
   "metadata": {},
   "source": [
    "#### Subset the NetCDF file by lat lon"
   ]
  },
  {
   "cell_type": "code",
   "execution_count": 72,
   "metadata": {},
   "outputs": [],
   "source": [
    "raw_netcdf = xr.open_dataarray('../example_data/Hydro_Estimator_netcdf/Hydro_Estimator201908300.nc')"
   ]
  },
  {
   "cell_type": "code",
   "execution_count": 73,
   "metadata": {},
   "outputs": [],
   "source": [
    "var_name = raw_netcdf.name"
   ]
  },
  {
   "cell_type": "code",
   "execution_count": 78,
   "metadata": {},
   "outputs": [],
   "source": [
    "raw_netcdf = xr.open_dataset('../example_data/Hydro_Estimator_netcdf/Hydro_Estimator201908300.nc')"
   ]
  },
  {
   "cell_type": "code",
   "execution_count": 85,
   "metadata": {},
   "outputs": [
    {
     "data": {
      "text/plain": [
       "<xarray.Dataset>\n",
       "Dimensions:    (latitude: 3111, longitude: 8001)\n",
       "Coordinates:\n",
       "  * latitude   (latitude) float64 45.75 -8.908 -55.97 ... 25.15 19.48 22.0\n",
       "  * longitude  (longitude) float64 -78.5 -48.68 53.54 ... 58.89 137.5 129.7\n",
       "Data variables:\n",
       "    RAINRATE   (latitude, longitude) float64 ...\n",
       "Attributes:\n",
       "    description:  Hydro Estimator RAINRATE"
      ]
     },
     "execution_count": 85,
     "metadata": {},
     "output_type": "execute_result"
    }
   ],
   "source": [
    "raw_netcdf"
   ]
  },
  {
   "cell_type": "code",
   "execution_count": 88,
   "metadata": {},
   "outputs": [],
   "source": [
    "cut_netcdf = raw_netcdf.where((lat_min < raw_netcdf.latitude) & (raw_netcdf.latitude < lat_max)\n",
    "                 & (lon_min < raw_netcdf.longitude) & (raw_netcdf.longitude < lon_max), drop=True)"
   ]
  },
  {
   "cell_type": "code",
   "execution_count": 95,
   "metadata": {},
   "outputs": [
    {
     "data": {
      "text/plain": [
       "<xarray.DataArray 'RAINRATE' (latitude: 89, longitude: 155)>\n",
       "array([[ 0.,  0.,  0., ...,  0.,  0.,  0.],\n",
       "       [ 0.,  0.,  0., ...,  0.,  0.,  0.],\n",
       "       [ 0.,  0.,  0., ...,  0.,  0.,  0.],\n",
       "       ..., \n",
       "       [ 0.,  0.,  0., ...,  0.,  0.,  0.],\n",
       "       [ 0.,  0.,  0., ...,  0.,  0.,  0.],\n",
       "       [ 0.,  0.,  0., ...,  0.,  0.,  0.]])\n",
       "Coordinates:\n",
       "  * latitude   (latitude) float64 21.68 21.55 19.17 19.21 ... 21.05 19.48 22.0\n",
       "  * longitude  (longitude) float64 -159.7 -157.6 -160.1 ... -159.9 -161.0 -158.1\n",
       "Attributes:\n",
       "    units:    mm/s"
      ]
     },
     "execution_count": 95,
     "metadata": {},
     "output_type": "execute_result"
    }
   ],
   "source": [
    "cut_netcdf.RAINRATE"
   ]
  }
 ],
 "metadata": {
  "kernelspec": {
   "display_name": "Python 3",
   "language": "python",
   "name": "python3"
  },
  "language_info": {
   "codemirror_mode": {
    "name": "ipython",
    "version": 3
   },
   "file_extension": ".py",
   "mimetype": "text/x-python",
   "name": "python",
   "nbconvert_exporter": "python",
   "pygments_lexer": "ipython3",
   "version": "3.6.7"
  }
 },
 "nbformat": 4,
 "nbformat_minor": 2
}

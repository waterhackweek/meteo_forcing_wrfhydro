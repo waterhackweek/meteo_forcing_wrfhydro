{
 "cells": [
  {
   "cell_type": "markdown",
   "metadata": {},
   "source": [
    "# Reggrid hydro estimator into 1 km, every 3-hr\n",
    "\n",
    "This notebook is to reggrid hydro estimator data in into 1-km spatial resolution every 3-hr. "
   ]
  },
  {
   "cell_type": "code",
   "execution_count": 29,
   "metadata": {},
   "outputs": [],
   "source": [
    "from netCDF4 import Dataset\n",
    "import numpy as np\n",
    "import pandas as pd\n",
    "import itertools\n",
    "import sys"
   ]
  },
  {
   "cell_type": "code",
   "execution_count": 30,
   "metadata": {},
   "outputs": [],
   "source": [
    "# !gunzip ../example_data/Hydro_Estimator/*.gz"
   ]
  },
  {
   "cell_type": "code",
   "execution_count": 31,
   "metadata": {},
   "outputs": [],
   "source": [
    "hour = 3\n",
    "datetime = 201908300\n",
    "datetime_comb = []\n",
    "filenames = []"
   ]
  },
  {
   "cell_type": "code",
   "execution_count": 32,
   "metadata": {},
   "outputs": [],
   "source": [
    "if 201908300%100 != 0:\n",
    "    datetime_comb[0:hour] = list(range(datetime - 1*(hour-1), datetime + 1, 1))\n",
    "else:\n",
    "    datetime_24 = datetime - 76\n",
    "    datetime_comb[0:(hour-1)] = list(range(datetime_24 - 1*(hour-1), datetime_24, 1))\n",
    "    datetime_comb.append(datetime)\n",
    "    "
   ]
  },
  {
   "cell_type": "code",
   "execution_count": 33,
   "metadata": {},
   "outputs": [],
   "source": [
    "for i in range(0,hour):\n",
    "    filenames.append('../example_data/Hydro_Estimator/world1hr.' + str(datetime_comb[i]))"
   ]
  },
  {
   "cell_type": "markdown",
   "metadata": {},
   "source": [
    "### Extract lat, lon data for ASCII"
   ]
  },
  {
   "cell_type": "code",
   "execution_count": 34,
   "metadata": {},
   "outputs": [
    {
     "name": "stdout",
     "output_type": "stream",
     "text": [
      "CPU times: user 2min 48s, sys: 6.04 s, total: 2min 54s\n",
      "Wall time: 2min 53s\n"
     ]
    }
   ],
   "source": [
    "%%time\n",
    "latlon = np.loadtxt('../example_data/Hydro_Estimator/zworld.latlon2', delimiter=\"\\t\", dtype=str)"
   ]
  },
  {
   "cell_type": "code",
   "execution_count": 35,
   "metadata": {},
   "outputs": [
    {
     "name": "stdout",
     "output_type": "stream",
     "text": [
      "CPU times: user 1min 10s, sys: 15.7 s, total: 1min 25s\n",
      "Wall time: 1min 25s\n"
     ]
    }
   ],
   "source": [
    "%%time\n",
    "latlon_values = np.array(' '.join(latlon).split(' '))\n",
    "latlon_values = list(filter(None, latlon_values))"
   ]
  },
  {
   "cell_type": "code",
   "execution_count": 36,
   "metadata": {},
   "outputs": [],
   "source": [
    "lat = list(latlon_values[0:-1:2])\n",
    "lon = list(latlon_values[1::2])"
   ]
  },
  {
   "cell_type": "code",
   "execution_count": 37,
   "metadata": {},
   "outputs": [],
   "source": [
    "lat = np.array(lat, dtype=np.float64)\n",
    "lon = np.array(lon, dtype=np.float64)"
   ]
  },
  {
   "cell_type": "markdown",
   "metadata": {},
   "source": [
    "### Extract values from Hydro Estimator ASCII and convert to Rainfall rate (mm/s)"
   ]
  },
  {
   "cell_type": "code",
   "execution_count": 41,
   "metadata": {},
   "outputs": [],
   "source": [
    "input_file = []"
   ]
  },
  {
   "cell_type": "code",
   "execution_count": 42,
   "metadata": {},
   "outputs": [
    {
     "name": "stdout",
     "output_type": "stream",
     "text": [
      "CPU times: user 9min 49s, sys: 3.81 s, total: 9min 52s\n",
      "Wall time: 9min 52s\n"
     ]
    }
   ],
   "source": [
    "%%time\n",
    "for i in range(0,hour):\n",
    "    input_file.append([np.loadtxt(filenames[i], delimiter='\\t', skiprows=1)])\n",
    "    \n",
    "# input_file_3 = np.loadtxt(filename_3, delimiter='\\t', skiprows=1)\n",
    "# input_file_2 = np.loadtxt(filename_2, delimiter='\\t', skiprows=1)\n",
    "# input_file_1 = np.loadtxt(filename_1, delimiter='\\t', skiprows=1)"
   ]
  },
  {
   "cell_type": "code",
   "execution_count": 43,
   "metadata": {
    "scrolled": true
   },
   "outputs": [
    {
     "data": {
      "text/plain": [
       "False"
      ]
     },
     "execution_count": 43,
     "metadata": {},
     "output_type": "execute_result"
    }
   ],
   "source": [
    "# check if latlon has the same cells as the values\n",
    "len(lat) == len(lon) == len(input_file[1])"
   ]
  },
  {
   "cell_type": "markdown",
   "metadata": {},
   "source": [
    "Calculating the Rainfall with equation, R = (value-2) * 0.3048. ref: https://www.star.nesdis.noaa.gov/smcd/emb/ff/digGlobalData.php  \n",
    "Since GLDAS is every 3-hour, we want the rainfall rate at the 00, 03, 06, etc. that is counting the "
   ]
  },
  {
   "cell_type": "code",
   "execution_count": 45,
   "metadata": {},
   "outputs": [],
   "source": [
    "rain = []\n",
    "for i in range(0,hour):\n",
    "    rain.append([(np.asanyarray(input_file[i])-2)*0.3048])\n",
    "\n",
    "RAINRATE_hydro = [sum(x)/10800 for x in zip(*rain)]   #Conver into mm/s)"
   ]
  },
  {
   "cell_type": "markdown",
   "metadata": {},
   "source": [
    "### Create NetCDF file"
   ]
  },
  {
   "cell_type": "code",
   "execution_count": 47,
   "metadata": {
    "scrolled": true
   },
   "outputs": [],
   "source": [
    "# NC file setup\n",
    "Hydro_estimator = Dataset('../example_data/Hydro_Estimator_netcdf/Hydro_Estimator' + str(datetime) +'.nc','w', format='NETCDF4') "
   ]
  },
  {
   "cell_type": "code",
   "execution_count": 48,
   "metadata": {},
   "outputs": [
    {
     "ename": "ValueError",
     "evalue": "cannot reshape array of size 24891111 into shape (24891111,24891111)",
     "output_type": "error",
     "traceback": [
      "\u001b[0;31m---------------------------------------------------------------------------\u001b[0m",
      "\u001b[0;31mValueError\u001b[0m                                Traceback (most recent call last)",
      "\u001b[0;32m<ipython-input-48-af3a8ca7d5c5>\u001b[0m in \u001b[0;36m<module>\u001b[0;34m()\u001b[0m\n\u001b[1;32m     17\u001b[0m \u001b[0mRAINRATE\u001b[0m\u001b[0;34m.\u001b[0m\u001b[0munits\u001b[0m \u001b[0;34m=\u001b[0m  \u001b[0;34m'mm/s'\u001b[0m\u001b[0;34m\u001b[0m\u001b[0;34m\u001b[0m\u001b[0m\n\u001b[1;32m     18\u001b[0m \u001b[0;31m## write data to variables.\u001b[0m\u001b[0;34m\u001b[0m\u001b[0;34m\u001b[0m\u001b[0;34m\u001b[0m\u001b[0m\n\u001b[0;32m---> 19\u001b[0;31m \u001b[0mRAINRATE\u001b[0m\u001b[0;34m[\u001b[0m\u001b[0;34m:\u001b[0m\u001b[0;34m]\u001b[0m \u001b[0;34m=\u001b[0m \u001b[0mRAINRATE_hydro\u001b[0m\u001b[0;34m\u001b[0m\u001b[0;34m\u001b[0m\u001b[0m\n\u001b[0m",
      "\u001b[0;32mnetCDF4/_netCDF4.pyx\u001b[0m in \u001b[0;36mnetCDF4._netCDF4.Variable.__setitem__\u001b[0;34m()\u001b[0m\n",
      "\u001b[0;31mValueError\u001b[0m: cannot reshape array of size 24891111 into shape (24891111,24891111)"
     ]
    }
   ],
   "source": [
    "Hydro_estimator.description = 'Hydro Estimator RAINRATE'\n",
    "## create the lat and lon dimensions.\n",
    "Hydro_estimator.createDimension('latitude',len(lat))\n",
    "Hydro_estimator.createDimension('longitude',len(lon))\n",
    "## Define the coordinate variables. They will hold the coordinate information\n",
    "lats = Hydro_estimator.createVariable('latitude','float64',('latitude',))\n",
    "lons = Hydro_estimator.createVariable('longitude','float64',('longitude',))\n",
    "## Assign units attributes to coordinate var data. This attaches a text attribute to each of the coordinate variables, containing the units.\n",
    "lats.units = 'degrees_north'\n",
    "lons.units = 'degrees_east'\n",
    "## write data to coordinate vars.\n",
    "lats[:] = lat\n",
    "lons[:] = lon\n",
    "## create the RAINRATE variable\n",
    "RAINRATE = Hydro_estimator.createVariable('RAINRATE','float64',('latitude','longitude'))\n",
    "## set the units attribute.\n",
    "RAINRATE.units =  'mm/s'\n",
    "## write data to variables.\n",
    "RAINRATE[:] = RAINRATE_hydro"
   ]
  },
  {
   "cell_type": "code",
   "execution_count": 49,
   "metadata": {
    "scrolled": true
   },
   "outputs": [],
   "source": [
    "Hydro_estimator.close()"
   ]
  }
 ],
 "metadata": {
  "kernelspec": {
   "display_name": "Python 3",
   "language": "python",
   "name": "python3"
  }
 },
 "nbformat": 4,
 "nbformat_minor": 2
}

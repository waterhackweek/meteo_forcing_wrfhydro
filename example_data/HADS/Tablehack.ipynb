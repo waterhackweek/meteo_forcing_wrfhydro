{
 "cells": [
  {
   "cell_type": "code",
   "execution_count": 1,
   "metadata": {},
   "outputs": [],
   "source": [
    "import pandas as pd\n",
    "import numpy as np"
   ]
  },
  {
   "cell_type": "code",
   "execution_count": 2,
   "metadata": {},
   "outputs": [],
   "source": [
    "table1 = pd.read_table('./table_hdr')"
   ]
  },
  {
   "cell_type": "code",
   "execution_count": 3,
   "metadata": {},
   "outputs": [
    {
     "name": "stdout",
     "output_type": "stream",
     "text": [
      "                             id|code|PC|date|value| |\n",
      "0       1560029C|ANHH1|PC|2019-03-17 00:45|146.65|  |\n",
      "1       1560029C|ANHH1|PC|2019-03-17 01:00|146.65|  |\n",
      "2       1560029C|ANHH1|PC|2019-03-17 01:15|146.65|  |\n",
      "3       1560029C|ANHH1|PC|2019-03-17 01:30|146.65|  |\n",
      "4       1560029C|ANHH1|PC|2019-03-17 01:45|146.65|  |\n",
      "5       1560029C|ANHH1|PC|2019-03-17 02:00|146.65|  |\n",
      "6       1560029C|ANHH1|PC|2019-03-17 02:15|146.65|  |\n",
      "7       1560029C|ANHH1|PC|2019-03-17 02:30|146.65|  |\n",
      "8       1560029C|ANHH1|PC|2019-03-17 02:45|146.65|  |\n",
      "9       1560029C|ANHH1|PC|2019-03-17 03:00|146.65|  |\n",
      "10      1560029C|ANHH1|PC|2019-03-17 03:15|146.65|  |\n",
      "11      1560029C|ANHH1|PC|2019-03-17 03:30|146.65|  |\n",
      "12      1560029C|ANHH1|PC|2019-03-17 03:45|146.65|  |\n",
      "13      1560029C|ANHH1|PC|2019-03-17 04:00|146.65|  |\n",
      "14      1560029C|ANHH1|PC|2019-03-17 04:15|146.65|  |\n",
      "15      1560029C|ANHH1|PC|2019-03-17 04:30|146.65|  |\n",
      "16      1560029C|ANHH1|PC|2019-03-17 04:45|146.65|  |\n",
      "17      1560029C|ANHH1|PC|2019-03-17 05:00|146.65|  |\n",
      "18      1560029C|ANHH1|PC|2019-03-17 05:15|146.65|  |\n",
      "19      1560029C|ANHH1|PC|2019-03-17 05:30|146.65|  |\n",
      "20      1560029C|ANHH1|PC|2019-03-17 05:45|146.65|  |\n",
      "21      1560029C|ANHH1|PC|2019-03-17 06:00|146.65|  |\n",
      "22      1560029C|ANHH1|PC|2019-03-17 06:15|146.65|  |\n",
      "23      1560029C|ANHH1|PC|2019-03-17 06:30|146.65|  |\n",
      "24      1560029C|ANHH1|PC|2019-03-17 06:45|146.65|  |\n",
      "25      1560029C|ANHH1|PC|2019-03-17 07:00|146.65|  |\n",
      "26      1560029C|ANHH1|PC|2019-03-17 07:15|146.65|  |\n",
      "27      1560029C|ANHH1|PC|2019-03-17 07:30|146.65|  |\n",
      "28      1560029C|ANHH1|PC|2019-03-17 07:45|146.65|  |\n",
      "29      1560029C|ANHH1|PC|2019-03-17 08:00|146.65|  |\n",
      "...                                               ...\n",
      "309236  FA9024CE|MKPH1|RW|2019-03-22 20:15|478.00|  |\n",
      "309237  FA9024CE|MKPH1|RW|2019-03-22 21:15|680.00|  |\n",
      "309238  FA9024CE|MKPH1|RW|2019-03-22 22:15|937.00|  |\n",
      "309239  FA9024CE|MKPH1|RW|2019-03-22 23:15|963.00|  |\n",
      "309240  FA9024CE|MKPH1|RW|2019-03-23 00:15|916.00|  |\n",
      "309241  FA9024CE|MKPH1|RW|2019-03-23 01:15|800.00|  |\n",
      "309242  FA9024CE|MKPH1|RW|2019-03-23 02:15|616.00|  |\n",
      "309243  FA9024CE|MKPH1|RW|2019-03-23 03:15|399.00|  |\n",
      "309244  FA9024CE|MKPH1|RW|2019-03-23 04:15|164.00|  |\n",
      "309245   FA9024CE|MKPH1|RW|2019-03-23 05:15|10.00|  |\n",
      "309246    FA9024CE|MKPH1|RW|2019-03-23 06:15|0.00|  |\n",
      "309247    FA9024CE|MKPH1|RW|2019-03-23 07:15|0.00|  |\n",
      "309248    FA9024CE|MKPH1|RW|2019-03-23 08:15|0.00|  |\n",
      "309249    FA9024CE|MKPH1|RW|2019-03-23 09:15|0.00|  |\n",
      "309250    FA9024CE|MKPH1|RW|2019-03-23 10:15|0.00|  |\n",
      "309251    FA9024CE|MKPH1|RW|2019-03-23 11:15|0.00|  |\n",
      "309252    FA9024CE|MKPH1|RW|2019-03-23 12:15|0.00|  |\n",
      "309253    FA9024CE|MKPH1|RW|2019-03-23 13:15|0.00|  |\n",
      "309254    FA9024CE|MKPH1|RW|2019-03-23 14:15|0.00|  |\n",
      "309255    FA9024CE|MKPH1|RW|2019-03-23 15:15|0.00|  |\n",
      "309256    FA9024CE|MKPH1|RW|2019-03-23 16:15|0.00|  |\n",
      "309257   FA9024CE|MKPH1|RW|2019-03-23 17:15|20.00|  |\n",
      "309258  FA9024CE|MKPH1|RW|2019-03-23 18:15|101.00|  |\n",
      "309259  FA9024CE|MKPH1|RW|2019-03-23 19:15|190.00|  |\n",
      "309260  FA9024CE|MKPH1|RW|2019-03-23 20:15|453.00|  |\n",
      "309261  FA9024CE|MKPH1|RW|2019-03-23 21:15|728.00|  |\n",
      "309262  FA9024CE|MKPH1|RW|2019-03-23 22:15|907.00|  |\n",
      "309263  FA9024CE|MKPH1|RW|2019-03-23 23:15|951.00|  |\n",
      "309264  FA9024CE|MKPH1|RW|2019-03-24 00:15|882.00|  |\n",
      "309265  FA9024CE|MKPH1|RW|2019-03-24 01:15|622.00|  |\n",
      "\n",
      "[309266 rows x 1 columns]\n"
     ]
    }
   ],
   "source": [
    "print(table1)"
   ]
  },
  {
   "cell_type": "code",
   "execution_count": 4,
   "metadata": {},
   "outputs": [
    {
     "name": "stdout",
     "output_type": "stream",
     "text": [
      "                             id|code|PC|date|value| |\n",
      "5       1560029C|ANHH1|PC|2019-03-17 02:00|146.65|  |\n",
      "17      1560029C|ANHH1|PC|2019-03-17 05:00|146.65|  |\n",
      "29      1560029C|ANHH1|PC|2019-03-17 08:00|146.65|  |\n",
      "41      1560029C|ANHH1|PC|2019-03-17 11:00|146.65|  |\n",
      "53      1560029C|ANHH1|PC|2019-03-17 13:00|146.65|  |\n",
      "65      1560029C|ANHH1|PC|2019-03-17 16:00|146.65|  |\n",
      "77      1560029C|ANHH1|PC|2019-03-17 19:00|146.65|  |\n",
      "89      1560029C|ANHH1|PC|2019-03-17 22:00|146.65|  |\n",
      "101     1560029C|ANHH1|PC|2019-03-18 00:00|146.65|  |\n",
      "113     1560029C|ANHH1|PC|2019-03-18 03:00|146.65|  |\n",
      "125     1560029C|ANHH1|PC|2019-03-18 06:00|146.65|  |\n",
      "137     1560029C|ANHH1|PC|2019-03-18 09:00|146.65|  |\n",
      "149     1560029C|ANHH1|PC|2019-03-18 11:17|146.65|R |\n",
      "161     1560029C|ANHH1|PC|2019-03-18 14:00|146.65|  |\n",
      "173     1560029C|ANHH1|PC|2019-03-18 17:00|146.65|  |\n",
      "185     1560029C|ANHH1|PC|2019-03-18 20:00|146.65|  |\n",
      "197     1560029C|ANHH1|PC|2019-03-18 23:00|146.65|  |\n",
      "209     1560029C|ANHH1|PC|2019-03-19 01:00|146.65|  |\n",
      "221     1560029C|ANHH1|PC|2019-03-19 04:00|146.65|  |\n",
      "233     1560029C|ANHH1|PC|2019-03-19 07:00|146.65|  |\n",
      "245     1560029C|ANHH1|PC|2019-03-19 10:00|146.65|  |\n",
      "257     1560029C|ANHH1|PC|2019-03-19 12:00|146.65|  |\n",
      "269     1560029C|ANHH1|PC|2019-03-19 15:00|146.65|  |\n",
      "281     1560029C|ANHH1|PC|2019-03-19 18:00|146.65|  |\n",
      "293     1560029C|ANHH1|PC|2019-03-19 21:00|146.65|  |\n",
      "305     1560029C|ANHH1|PC|2019-03-19 23:16|146.65|R |\n",
      "317     1560029C|ANHH1|PC|2019-03-20 02:00|146.65|  |\n",
      "329     1560029C|ANHH1|PC|2019-03-20 05:00|146.65|  |\n",
      "341     1560029C|ANHH1|PC|2019-03-20 08:00|146.65|  |\n",
      "353     1560029C|ANHH1|PC|2019-03-20 11:00|146.65|  |\n",
      "...                                               ...\n",
      "308909   FA9024CE|MKPH1|UR|2019-03-23 08:15|90.00|  |\n",
      "308921   FA9024CE|MKPH1|UR|2019-03-23 20:15|91.00|  |\n",
      "308933    FA9024CE|MKPH1|UP|2019-03-17 06:15|6.00|  |\n",
      "308945   FA9024CE|MKPH1|UP|2019-03-17 18:15|21.00|  |\n",
      "308957   FA9024CE|MKPH1|UP|2019-03-18 06:15|17.00|  |\n",
      "308969   FA9024CE|MKPH1|UP|2019-03-18 18:15|21.00|  |\n",
      "308981   FA9024CE|MKPH1|UP|2019-03-19 06:15|24.00|  |\n",
      "308993   FA9024CE|MKPH1|UP|2019-03-19 18:15|23.00|  |\n",
      "309005   FA9024CE|MKPH1|UP|2019-03-20 06:15|13.00|  |\n",
      "309017    FA9024CE|MKPH1|UP|2019-03-20 18:15|5.00|  |\n",
      "309029   FA9024CE|MKPH1|UP|2019-03-21 06:15|11.00|  |\n",
      "309041   FA9024CE|MKPH1|UP|2019-03-21 18:15|14.00|  |\n",
      "309053   FA9024CE|MKPH1|UP|2019-03-22 06:15|20.00|  |\n",
      "309065   FA9024CE|MKPH1|UP|2019-03-22 18:15|22.00|  |\n",
      "309077   FA9024CE|MKPH1|UP|2019-03-23 06:15|20.00|  |\n",
      "309089   FA9024CE|MKPH1|UP|2019-03-23 18:15|21.00|  |\n",
      "309101    FA9024CE|MKPH1|RW|2019-03-17 05:15|9.00|  |\n",
      "309113   FA9024CE|MKPH1|RW|2019-03-17 17:15|20.00|  |\n",
      "309125    FA9024CE|MKPH1|RW|2019-03-18 05:15|8.00|  |\n",
      "309137   FA9024CE|MKPH1|RW|2019-03-18 17:15|16.00|  |\n",
      "309149   FA9024CE|MKPH1|RW|2019-03-19 05:15|12.00|  |\n",
      "309161   FA9024CE|MKPH1|RW|2019-03-19 17:15|11.00|  |\n",
      "309173    FA9024CE|MKPH1|RW|2019-03-20 05:15|4.00|  |\n",
      "309185   FA9024CE|MKPH1|RW|2019-03-20 17:15|27.00|  |\n",
      "309197   FA9024CE|MKPH1|RW|2019-03-21 05:15|13.00|  |\n",
      "309209   FA9024CE|MKPH1|RW|2019-03-21 17:15|24.00|  |\n",
      "309221   FA9024CE|MKPH1|RW|2019-03-22 05:15|12.00|  |\n",
      "309233   FA9024CE|MKPH1|RW|2019-03-22 17:15|27.00|  |\n",
      "309245   FA9024CE|MKPH1|RW|2019-03-23 05:15|10.00|  |\n",
      "309257   FA9024CE|MKPH1|RW|2019-03-23 17:15|20.00|  |\n",
      "\n",
      "[25772 rows x 1 columns]\n"
     ]
    }
   ],
   "source": [
    "table2 = table1.drop([0,1,2,3,4])\n",
    "table3 = table2.iloc[::12, :]\n",
    "print(table3)\n",
    "table3.to_csv('table3hr.csv')"
   ]
  },
  {
   "cell_type": "code",
   "execution_count": 23,
   "metadata": {},
   "outputs": [
    {
     "data": {
      "text/html": [
       "<div>\n",
       "<style scoped>\n",
       "    .dataframe tbody tr th:only-of-type {\n",
       "        vertical-align: middle;\n",
       "    }\n",
       "\n",
       "    .dataframe tbody tr th {\n",
       "        vertical-align: top;\n",
       "    }\n",
       "\n",
       "    .dataframe thead th {\n",
       "        text-align: right;\n",
       "    }\n",
       "</style>\n",
       "<table border=\"1\" class=\"dataframe\">\n",
       "  <thead>\n",
       "    <tr style=\"text-align: right;\">\n",
       "      <th></th>\n",
       "      <th>n</th>\n",
       "      <th>ID</th>\n",
       "      <th>Code</th>\n",
       "      <th>Scode</th>\n",
       "      <th>Date</th>\n",
       "      <th>Time</th>\n",
       "      <th>Rainfall(in)</th>\n",
       "      <th>Rainfall(mm)</th>\n",
       "      <th>Rainfall Rate ( mm/hr)</th>\n",
       "    </tr>\n",
       "  </thead>\n",
       "  <tbody>\n",
       "    <tr>\n",
       "      <th>0</th>\n",
       "      <td>1</td>\n",
       "      <td>1560029C</td>\n",
       "      <td>ANHH1</td>\n",
       "      <td>PC</td>\n",
       "      <td>3/17/19</td>\n",
       "      <td>2:00</td>\n",
       "      <td>146.65</td>\n",
       "      <td>3724.91</td>\n",
       "      <td>0</td>\n",
       "    </tr>\n",
       "    <tr>\n",
       "      <th>1</th>\n",
       "      <td>2</td>\n",
       "      <td>1560029C</td>\n",
       "      <td>ANHH1</td>\n",
       "      <td>PC</td>\n",
       "      <td>3/17/19</td>\n",
       "      <td>5:00</td>\n",
       "      <td>146.65</td>\n",
       "      <td>3724.91</td>\n",
       "      <td>0</td>\n",
       "    </tr>\n",
       "    <tr>\n",
       "      <th>2</th>\n",
       "      <td>29</td>\n",
       "      <td>1560029C</td>\n",
       "      <td>ANHH1</td>\n",
       "      <td>PC</td>\n",
       "      <td>3/17/19</td>\n",
       "      <td>8:00</td>\n",
       "      <td>146.65</td>\n",
       "      <td>3724.91</td>\n",
       "      <td>0</td>\n",
       "    </tr>\n",
       "    <tr>\n",
       "      <th>3</th>\n",
       "      <td>41</td>\n",
       "      <td>1560029C</td>\n",
       "      <td>ANHH1</td>\n",
       "      <td>PC</td>\n",
       "      <td>3/17/19</td>\n",
       "      <td>11:00</td>\n",
       "      <td>146.65</td>\n",
       "      <td>3724.91</td>\n",
       "      <td>0</td>\n",
       "    </tr>\n",
       "    <tr>\n",
       "      <th>4</th>\n",
       "      <td>53</td>\n",
       "      <td>1560029C</td>\n",
       "      <td>ANHH1</td>\n",
       "      <td>PC</td>\n",
       "      <td>3/17/19</td>\n",
       "      <td>13:00</td>\n",
       "      <td>146.65</td>\n",
       "      <td>3724.91</td>\n",
       "      <td>0</td>\n",
       "    </tr>\n",
       "  </tbody>\n",
       "</table>\n",
       "</div>"
      ],
      "text/plain": [
       "    n        ID   Code Scode     Date   Time  Rainfall(in)  Rainfall(mm)  \\\n",
       "0   1  1560029C  ANHH1    PC  3/17/19   2:00        146.65       3724.91   \n",
       "1   2  1560029C  ANHH1    PC  3/17/19   5:00        146.65       3724.91   \n",
       "2  29  1560029C  ANHH1    PC  3/17/19   8:00        146.65       3724.91   \n",
       "3  41  1560029C  ANHH1    PC  3/17/19  11:00        146.65       3724.91   \n",
       "4  53  1560029C  ANHH1    PC  3/17/19  13:00        146.65       3724.91   \n",
       "\n",
       "  Rainfall Rate ( mm/hr)  \n",
       "0                      0  \n",
       "1                      0  \n",
       "2                      0  \n",
       "3                      0  \n",
       "4                      0  "
      ]
     },
     "execution_count": 23,
     "metadata": {},
     "output_type": "execute_result"
    }
   ],
   "source": [
    "tablepc = pd.read_csv('./table3pc.csv')\n",
    "tablepc[0:5]"
   ]
  },
  {
   "cell_type": "code",
   "execution_count": 60,
   "metadata": {},
   "outputs": [
    {
     "data": {
      "text/plain": [
       "array(['ANHH1', 'HNPH1', 'KPIH1', 'NUUH1', 'LIHH1', 'WUHH1', 'AHUH1',\n",
       "       'HAUH1', 'WBHH1', 'KASH1', 'PUKH1', 'P36', 'WHSH1', 'MOGH1',\n",
       "       'HAKH1', 'WISH1', 'WLDH1', 'WKRH1', 'KNRH1', 'KMHH1', 'STVH1',\n",
       "       'MAUH1', 'MOAH1', 'NIUH1', 'OFSH1', 'PFSH1', 'PUNH1', 'LUAH1',\n",
       "       'OMAH1', 'WPPH1', 'WMLH1', 'PMLH1', 'MAPH1', 'KTAH1', 'SCEH1',\n",
       "       'KRCH1', 'PKAH1', 'PKWH1', 'SCBH1', 'MKRH1', 'MKGH1', 'PTAH1',\n",
       "       'WWFH1', 'KWLH1', 'DLGH1', 'HKIH1', 'KAOH1', 'PTRH1', 'HOFH1',\n",
       "       'KMOH1', 'MKAH1', 'PKMH1', 'KPDH1', 'PAFH1', 'PHRH1', 'LKHH1',\n",
       "       'NENH1', 'PERH1', 'WNVH1', 'MLKH1', 'LNIH1', 'PULH1', 'PWWH1',\n",
       "       'MNRH1', 'POPH1', 'WHGH1', 'KHRH1', 'WKVH1', 'AHMH1', 'KPLH1',\n",
       "       'PLHH1', 'KKRH1', 'KACH1', 'AIKH1', 'KHKH1', 'MABH1', 'ULUH1',\n",
       "       'KMUH1', 'KUUH1', 'KLEH1', 'HKUH1', 'KFWH1', 'OFRH1', 'KHIH1',\n",
       "       'WCCH1', 'WIHH1', 'WUKH1', 'KBSH1', 'KPRH1', 'KLFH1', 'MLDH1',\n",
       "       'BELH1', 'KAHH1', 'WAFH1', 'HNAH1', 'SOPH1', 'PRIH1', 'POIH1',\n",
       "       'PAKH1', 'PPLH1', 'KAYH1', 'MCRH1', 'MKHH1', 'WWKH1', 'WLLH1',\n",
       "       'KIRH1', 'PKKH1', 'TNLH1', 'HOUH1', 'PMHH1', 'KLOH1', 'KWSH1',\n",
       "       'SDQH1', 'WLGH1', 'KPNH1', 'KKUH1', 'KHOH1', 'PLIH1', 'MKPH1'], dtype=object)"
      ]
     },
     "execution_count": 60,
     "metadata": {},
     "output_type": "execute_result"
    }
   ],
   "source": [
    "tablepc.Code.unique()"
   ]
  },
  {
   "cell_type": "code",
   "execution_count": 63,
   "metadata": {},
   "outputs": [],
   "source": [
    "sites=tablepc.Code.unique()\n",
    "for site in sites:\n",
    "\n",
    "    tablepc[site] = tablepc['Rainfall Rate ( mm/hr)'][tablepc.Code==site]"
   ]
  },
  {
   "cell_type": "code",
   "execution_count": 65,
   "metadata": {},
   "outputs": [
    {
     "ename": "ValueError",
     "evalue": "to assemble mappings requires at least that [year, month, day] be specified: [day,month,year] is missing",
     "output_type": "error",
     "traceback": [
      "\u001b[0;31m---------------------------------------------------------------------------\u001b[0m",
      "\u001b[0;31mValueError\u001b[0m                                Traceback (most recent call last)",
      "\u001b[0;32m<ipython-input-65-a1445b9e8bc7>\u001b[0m in \u001b[0;36m<module>\u001b[0;34m()\u001b[0m\n\u001b[0;32m----> 1\u001b[0;31m \u001b[0mtablepc\u001b[0m\u001b[0;34m[\u001b[0m\u001b[0;34m'datetime'\u001b[0m\u001b[0;34m]\u001b[0m\u001b[0;34m=\u001b[0m\u001b[0mpd\u001b[0m\u001b[0;34m.\u001b[0m\u001b[0mto_datetime\u001b[0m\u001b[0;34m(\u001b[0m\u001b[0mtablepc\u001b[0m\u001b[0;34m[\u001b[0m\u001b[0;34m[\u001b[0m\u001b[0;34m'Date'\u001b[0m\u001b[0;34m,\u001b[0m\u001b[0;34m'Time'\u001b[0m\u001b[0;34m]\u001b[0m\u001b[0;34m]\u001b[0m\u001b[0;34m)\u001b[0m\u001b[0;34m\u001b[0m\u001b[0;34m\u001b[0m\u001b[0m\n\u001b[0m",
      "\u001b[0;32m/opt/conda/lib/python3.6/site-packages/pandas/core/tools/datetimes.py\u001b[0m in \u001b[0;36mto_datetime\u001b[0;34m(arg, errors, dayfirst, yearfirst, utc, box, format, exact, unit, infer_datetime_format, origin)\u001b[0m\n\u001b[1;32m    374\u001b[0m         \u001b[0mresult\u001b[0m \u001b[0;34m=\u001b[0m \u001b[0mSeries\u001b[0m\u001b[0;34m(\u001b[0m\u001b[0mvalues\u001b[0m\u001b[0;34m,\u001b[0m \u001b[0mindex\u001b[0m\u001b[0;34m=\u001b[0m\u001b[0marg\u001b[0m\u001b[0;34m.\u001b[0m\u001b[0mindex\u001b[0m\u001b[0;34m,\u001b[0m \u001b[0mname\u001b[0m\u001b[0;34m=\u001b[0m\u001b[0marg\u001b[0m\u001b[0;34m.\u001b[0m\u001b[0mname\u001b[0m\u001b[0;34m)\u001b[0m\u001b[0;34m\u001b[0m\u001b[0;34m\u001b[0m\u001b[0m\n\u001b[1;32m    375\u001b[0m     \u001b[0;32melif\u001b[0m \u001b[0misinstance\u001b[0m\u001b[0;34m(\u001b[0m\u001b[0marg\u001b[0m\u001b[0;34m,\u001b[0m \u001b[0;34m(\u001b[0m\u001b[0mABCDataFrame\u001b[0m\u001b[0;34m,\u001b[0m \u001b[0mMutableMapping\u001b[0m\u001b[0;34m)\u001b[0m\u001b[0;34m)\u001b[0m\u001b[0;34m:\u001b[0m\u001b[0;34m\u001b[0m\u001b[0;34m\u001b[0m\u001b[0m\n\u001b[0;32m--> 376\u001b[0;31m         \u001b[0mresult\u001b[0m \u001b[0;34m=\u001b[0m \u001b[0m_assemble_from_unit_mappings\u001b[0m\u001b[0;34m(\u001b[0m\u001b[0marg\u001b[0m\u001b[0;34m,\u001b[0m \u001b[0merrors\u001b[0m\u001b[0;34m=\u001b[0m\u001b[0merrors\u001b[0m\u001b[0;34m)\u001b[0m\u001b[0;34m\u001b[0m\u001b[0;34m\u001b[0m\u001b[0m\n\u001b[0m\u001b[1;32m    377\u001b[0m     \u001b[0;32melif\u001b[0m \u001b[0misinstance\u001b[0m\u001b[0;34m(\u001b[0m\u001b[0marg\u001b[0m\u001b[0;34m,\u001b[0m \u001b[0mABCIndexClass\u001b[0m\u001b[0;34m)\u001b[0m\u001b[0;34m:\u001b[0m\u001b[0;34m\u001b[0m\u001b[0;34m\u001b[0m\u001b[0m\n\u001b[1;32m    378\u001b[0m         \u001b[0mresult\u001b[0m \u001b[0;34m=\u001b[0m \u001b[0m_convert_listlike\u001b[0m\u001b[0;34m(\u001b[0m\u001b[0marg\u001b[0m\u001b[0;34m,\u001b[0m \u001b[0mbox\u001b[0m\u001b[0;34m,\u001b[0m \u001b[0mformat\u001b[0m\u001b[0;34m,\u001b[0m \u001b[0mname\u001b[0m\u001b[0;34m=\u001b[0m\u001b[0marg\u001b[0m\u001b[0;34m.\u001b[0m\u001b[0mname\u001b[0m\u001b[0;34m)\u001b[0m\u001b[0;34m\u001b[0m\u001b[0;34m\u001b[0m\u001b[0m\n",
      "\u001b[0;32m/opt/conda/lib/python3.6/site-packages/pandas/core/tools/datetimes.py\u001b[0m in \u001b[0;36m_assemble_from_unit_mappings\u001b[0;34m(arg, errors)\u001b[0m\n\u001b[1;32m    453\u001b[0m         raise ValueError(\"to assemble mappings requires at least that \"\n\u001b[1;32m    454\u001b[0m                          \u001b[0;34m\"[year, month, day] be specified: [{required}] \"\u001b[0m\u001b[0;34m\u001b[0m\u001b[0;34m\u001b[0m\u001b[0m\n\u001b[0;32m--> 455\u001b[0;31m                          \"is missing\".format(required=','.join(req)))\n\u001b[0m\u001b[1;32m    456\u001b[0m \u001b[0;34m\u001b[0m\u001b[0m\n\u001b[1;32m    457\u001b[0m     \u001b[0;31m# keys we don't recognize\u001b[0m\u001b[0;34m\u001b[0m\u001b[0;34m\u001b[0m\u001b[0;34m\u001b[0m\u001b[0m\n",
      "\u001b[0;31mValueError\u001b[0m: to assemble mappings requires at least that [year, month, day] be specified: [day,month,year] is missing"
     ]
    }
   ],
   "source": [
    "tablepc['datetime']=pd.to_datetime(tablepc[['Date','Time']])\n"
   ]
  },
  {
   "cell_type": "code",
   "execution_count": null,
   "metadata": {},
   "outputs": [],
   "source": []
  },
  {
   "cell_type": "code",
   "execution_count": 59,
   "metadata": {
    "scrolled": true
   },
   "outputs": [
    {
     "name": "stdout",
     "output_type": "stream",
     "text": [
      "None\n"
     ]
    }
   ],
   "source": [
    "tablept = tablepc.rename(columns={'Rainfall(in)': 'Rainfall_in', 'Rainfall(mm)': 'Rainfall_mm', 'Rainfall( mm/hr)':'Rainfall_mmhr'}, inplace=True)\n",
    "print(tablept)\n",
    "\n",
    "\n"
   ]
  },
  {
   "cell_type": "code",
   "execution_count": 58,
   "metadata": {},
   "outputs": [
    {
     "ename": "AttributeError",
     "evalue": "'NoneType' object has no attribute 'drop'",
     "output_type": "error",
     "traceback": [
      "\u001b[0;31m---------------------------------------------------------------------------\u001b[0m",
      "\u001b[0;31mAttributeError\u001b[0m                            Traceback (most recent call last)",
      "\u001b[0;32m<ipython-input-58-5a0f54a6f665>\u001b[0m in \u001b[0;36m<module>\u001b[0;34m()\u001b[0m\n\u001b[0;32m----> 1\u001b[0;31m \u001b[0mtabplepct\u001b[0m \u001b[0;34m=\u001b[0m \u001b[0mtablept\u001b[0m\u001b[0;34m.\u001b[0m\u001b[0mdrop\u001b[0m\u001b[0;34m(\u001b[0m\u001b[0;34m[\u001b[0m\u001b[0;34m'n'\u001b[0m\u001b[0;34m,\u001b[0m \u001b[0;34m'ID'\u001b[0m\u001b[0;34m,\u001b[0m \u001b[0;34m'Scode'\u001b[0m\u001b[0;34m,\u001b[0m \u001b[0;34m'Rainfall_in'\u001b[0m\u001b[0;34m,\u001b[0m\u001b[0;34m'Rainfall_mm'\u001b[0m\u001b[0;34m]\u001b[0m\u001b[0;34m,\u001b[0m \u001b[0maxis\u001b[0m\u001b[0;34m=\u001b[0m\u001b[0;36m1\u001b[0m\u001b[0;34m)\u001b[0m\u001b[0;34m\u001b[0m\u001b[0;34m\u001b[0m\u001b[0m\n\u001b[0m\u001b[1;32m      2\u001b[0m \u001b[0mprint\u001b[0m\u001b[0;34m(\u001b[0m\u001b[0mtablepct\u001b[0m\u001b[0;34m)\u001b[0m\u001b[0;34m\u001b[0m\u001b[0;34m\u001b[0m\u001b[0m\n",
      "\u001b[0;31mAttributeError\u001b[0m: 'NoneType' object has no attribute 'drop'"
     ]
    }
   ],
   "source": [
    "tabplepct = tablept.drop(['n', 'ID', 'Scode', 'Rainfall_in','Rainfall_mm'], axis=1)\n",
    "print(tablepct)"
   ]
  },
  {
   "cell_type": "code",
   "execution_count": null,
   "metadata": {},
   "outputs": [],
   "source": []
  },
  {
   "cell_type": "code",
   "execution_count": null,
   "metadata": {},
   "outputs": [],
   "source": []
  },
  {
   "cell_type": "code",
   "execution_count": null,
   "metadata": {},
   "outputs": [],
   "source": []
  },
  {
   "cell_type": "code",
   "execution_count": null,
   "metadata": {},
   "outputs": [],
   "source": []
  }
 ],
 "metadata": {
  "kernelspec": {
   "display_name": "Python 3",
   "language": "python",
   "name": "python3"
  },
  "language_info": {
   "codemirror_mode": {
    "name": "ipython",
    "version": 3
   },
   "file_extension": ".py",
   "mimetype": "text/x-python",
   "name": "python",
   "nbconvert_exporter": "python",
   "pygments_lexer": "ipython3",
   "version": "3.6.7"
  }
 },
 "nbformat": 4,
 "nbformat_minor": 2
}
